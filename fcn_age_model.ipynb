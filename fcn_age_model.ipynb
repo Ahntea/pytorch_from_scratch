{
  "cells": [
    {
      "cell_type": "markdown",
      "metadata": {
        "id": "view-in-github",
        "colab_type": "text"
      },
      "source": [
        "<a href=\"https://colab.research.google.com/github/Ahntea/pytorch_from_scratch/blob/main/fcn_age_model.ipynb\" target=\"_parent\"><img src=\"https://colab.research.google.com/assets/colab-badge.svg\" alt=\"Open In Colab\"/></a>"
      ]
    },
    {
      "cell_type": "code",
      "execution_count": null,
      "metadata": {
        "colab": {
          "base_uri": "https://localhost:8080/"
        },
        "id": "20oYsK8UbGjr",
        "outputId": "482631ae-61ee-4864-828d-db0267c41e61"
      },
      "outputs": [
        {
          "output_type": "stream",
          "name": "stdout",
          "text": [
            "Drive already mounted at /content/drive; to attempt to forcibly remount, call drive.mount(\"/content/drive\", force_remount=True).\n"
          ]
        }
      ],
      "source": [
        "from google.colab import drive\n",
        "drive.mount('/content/drive')\n",
        "from PIL import Image\n",
        "import numpy as np\n",
        "import pandas as pd\n",
        "import matplotlib.font_manager as fm\n",
        "import os\n",
        "\n",
        "!apt-get -qq -y install fonts-nanum > /dev/null\n",
        "fontpath = '/usr/share/fonts/truetype/nanum/NanumBarunGothic.ttf'\n",
        "font = fm.FontProperties(fname=fontpath, size=9)\n",
        "fm._rebuild()\n",
        "# 단계 3: 한글 폰트 설정\n",
        "import matplotlib.pyplot as plt\n",
        "import matplotlib as mpl\n",
        "import matplotlib.font_manager as fm\n",
        "\n",
        "# 마이너스 표시 문제\n",
        "mpl.rcParams['axes.unicode_minus'] = False\n",
        "\t\n",
        "# 한글 폰트 설정\n",
        "path = '/usr/share/fonts/truetype/nanum/NanumGothicBold.ttf'\n",
        "font_name = fm.FontProperties(fname=path, size=18).get_name()\n",
        "plt.rc('font', family=font_name)\n",
        "fm._rebuild()\n",
        "\n",
        "# filename = \"/content/drive/MyDrive/thumbnail_list.txt\"\n",
        "train_filename = \"/content/drive/MyDrive/training_list.txt\"\n",
        "valid_filename = \"/content/drive/MyDrive/valid_list.txt\"\n",
        "\n",
        "import unicodedata"
      ]
    },
    {
      "cell_type": "code",
      "execution_count": null,
      "metadata": {
        "id": "i4odJ3NvmHb0"
      },
      "outputs": [],
      "source": [
        "# !(ls drive/MyDrive/training >> training_list.txt)\n",
        "# !(ls drive/MyDrive/valid >> valid_list.txt)"
      ]
    },
    {
      "cell_type": "code",
      "execution_count": null,
      "metadata": {
        "id": "u5hCE4FAbTZV"
      },
      "outputs": [],
      "source": [
        "# 한글 변환\n",
        "train_list = []\n",
        "with open(train_filename) as f:\n",
        "    for line in f:\n",
        "        train_list.append(unicodedata.normalize(\"NFC\", line.strip()))\n",
        "\n",
        "valid_list = []\n",
        "with open(valid_filename) as f:\n",
        "    for line in f:\n",
        "        valid_list.append(unicodedata.normalize(\"NFC\", line.strip()))"
      ]
    },
    {
      "cell_type": "code",
      "execution_count": null,
      "metadata": {
        "id": "nFMByd2sbUAT"
      },
      "outputs": [],
      "source": [
        "# train dataframe 생성\n",
        "pd_train = pd.DataFrame(train_list)\n",
        "pd_train[\"image\"]= pd_train[0].str.replace('_PMT.jpg', '.jpg')\n",
        "pd_train.rename(columns = {0:\"filename\"}, inplace = True)\n",
        "\n",
        "# valid dataframe 생성\n",
        "pd_valid = pd.DataFrame(valid_list)\n",
        "pd_valid[\"image\"]= pd_valid[0].str.replace('_PMT.jpg', '.jpg')\n",
        "pd_valid.rename(columns = {0:\"filename\"}, inplace = True)"
      ]
    },
    {
      "cell_type": "code",
      "execution_count": null,
      "metadata": {
        "id": "lJ2UziTebVNk"
      },
      "outputs": [],
      "source": [
        "# image 생성날짜 dataframe 로드 및 merge\n",
        "imt = pd.read_csv(\"/content/drive/MyDrive/csv_image_table_1015.csv\")\n",
        "\n",
        "merged = pd.merge(pd_train, imt, how=\"left\", on = \"image\" )\n",
        "merged['gen_date'] = pd.to_datetime(merged[['year','month','day']], format='%Y%m%d')\n",
        "merged[\"birth_date\"] = merged[\"image\"].str.split('_', expand=True)[2]\n",
        "merged[\"birth_date\"] = merged[\"birth_date\"].astype(\"datetime64[ns]\")\n",
        "merged[\"age\"] = (merged[\"gen_date\"] - merged[\"birth_date\"]) / np.timedelta64(1, 'Y')\n",
        "merged[\"age\"].fillna(35, inplace=True)\n",
        "merged[\"age\"] = merged[\"age\"].astype(int)\n",
        "merged.loc[merged[\"age\"]==119, \"age\"] = 19\n",
        "merged[\"category\"] = merged[\"image\"].str.split('_', expand=True)[4]\n",
        "d_ages = merged[['filename','age']].set_index('filename').T.to_dict('list')"
      ]
    },
    {
      "cell_type": "code",
      "execution_count": null,
      "metadata": {
        "id": "UL-dYTclpID8"
      },
      "outputs": [],
      "source": [
        "merged.to_csv('train.csv',\n",
        "                  sep=',',na_rep='NaN',columns = ['image','filename', 'age'],index = False)"
      ]
    },
    {
      "cell_type": "code",
      "execution_count": null,
      "metadata": {
        "id": "j_1cbPCu0l0v"
      },
      "outputs": [],
      "source": [
        "# image 생성날짜 dataframe 로드 및 merge\n",
        "imt = pd.read_csv(\"/content/drive/MyDrive/csv_image_table_1015.csv\")\n",
        "\n",
        "m_valid = pd.merge(pd_valid, imt, how=\"left\", on = \"image\" )\n",
        "m_valid['gen_date'] = pd.to_datetime(m_valid[['year','month','day']], format='%Y%m%d')\n",
        "m_valid[\"birth_date\"] = m_valid[\"image\"].str.split('_', expand=True)[2]\n",
        "m_valid[\"birth_date\"] = m_valid[\"birth_date\"].astype(\"datetime64[ns]\")\n",
        "m_valid[\"age\"] = (m_valid[\"gen_date\"] - m_valid[\"birth_date\"]) / np.timedelta64(1, 'Y')\n",
        "m_valid[\"age\"].fillna(35, inplace=True)\n",
        "m_valid[\"age\"] = m_valid[\"age\"].astype(int)\n",
        "m_valid.loc[m_valid[\"age\"]==119, \"age\"] = 19\n",
        "m_valid[\"category\"] = m_valid[\"image\"].str.split('_', expand=True)[4]\n",
        "valid_ages = m_valid[['filename','age']].set_index('filename').T.to_dict('list')\n",
        "m_valid.to_csv('valid.csv',\n",
        "                  sep=',',na_rep='NaN',columns = ['image','filename', 'age'],index = False)"
      ]
    },
    {
      "cell_type": "code",
      "execution_count": null,
      "metadata": {
        "id": "aW2qORYa1CVu",
        "colab": {
          "base_uri": "https://localhost:8080/",
          "height": 722
        },
        "outputId": "272d39a2-3ee4-494d-a5cf-4957d59fab2e"
      },
      "outputs": [
        {
          "output_type": "execute_result",
          "data": {
            "text/html": [
              "\n",
              "  <div id=\"df-b7bf4889-a19f-4174-bb30-9f1c0bd6ef3e\">\n",
              "    <div class=\"colab-df-container\">\n",
              "      <div>\n",
              "<style scoped>\n",
              "    .dataframe tbody tr th:only-of-type {\n",
              "        vertical-align: middle;\n",
              "    }\n",
              "\n",
              "    .dataframe tbody tr th {\n",
              "        vertical-align: top;\n",
              "    }\n",
              "\n",
              "    .dataframe thead th {\n",
              "        text-align: right;\n",
              "    }\n",
              "</style>\n",
              "<table border=\"1\" class=\"dataframe\">\n",
              "  <thead>\n",
              "    <tr style=\"text-align: right;\">\n",
              "      <th></th>\n",
              "      <th>filename</th>\n",
              "      <th>image</th>\n",
              "      <th>Unnamed: 0</th>\n",
              "      <th>folder_num</th>\n",
              "      <th>year</th>\n",
              "      <th>month</th>\n",
              "      <th>day</th>\n",
              "      <th>hour</th>\n",
              "      <th>min</th>\n",
              "      <th>sec</th>\n",
              "      <th>gen_date</th>\n",
              "      <th>birth_date</th>\n",
              "      <th>age</th>\n",
              "      <th>category</th>\n",
              "    </tr>\n",
              "  </thead>\n",
              "  <tbody>\n",
              "    <tr>\n",
              "      <th>0</th>\n",
              "      <td>곡효애_F_1979-12-25_6393_보톡스_399796_PMT.jpg</td>\n",
              "      <td>곡효애_F_1979-12-25_6393_보톡스_399796.jpg</td>\n",
              "      <td>0.0</td>\n",
              "      <td>6393.0</td>\n",
              "      <td>2018.0</td>\n",
              "      <td>10.0</td>\n",
              "      <td>15.0</td>\n",
              "      <td>13.0</td>\n",
              "      <td>23.0</td>\n",
              "      <td>0.0</td>\n",
              "      <td>2018-10-15</td>\n",
              "      <td>1979-12-25</td>\n",
              "      <td>38</td>\n",
              "      <td>보톡스</td>\n",
              "    </tr>\n",
              "    <tr>\n",
              "      <th>1</th>\n",
              "      <td>곡효애_F_1979-12-25_6393_보톡스_399797_PMT.jpg</td>\n",
              "      <td>곡효애_F_1979-12-25_6393_보톡스_399797.jpg</td>\n",
              "      <td>1.0</td>\n",
              "      <td>6393.0</td>\n",
              "      <td>2018.0</td>\n",
              "      <td>10.0</td>\n",
              "      <td>15.0</td>\n",
              "      <td>13.0</td>\n",
              "      <td>23.0</td>\n",
              "      <td>5.0</td>\n",
              "      <td>2018-10-15</td>\n",
              "      <td>1979-12-25</td>\n",
              "      <td>38</td>\n",
              "      <td>보톡스</td>\n",
              "    </tr>\n",
              "    <tr>\n",
              "      <th>2</th>\n",
              "      <td>곡효애_F_1979-12-25_6393_보톡스_399798_PMT.jpg</td>\n",
              "      <td>곡효애_F_1979-12-25_6393_보톡스_399798.jpg</td>\n",
              "      <td>2.0</td>\n",
              "      <td>6393.0</td>\n",
              "      <td>2018.0</td>\n",
              "      <td>10.0</td>\n",
              "      <td>15.0</td>\n",
              "      <td>13.0</td>\n",
              "      <td>23.0</td>\n",
              "      <td>10.0</td>\n",
              "      <td>2018-10-15</td>\n",
              "      <td>1979-12-25</td>\n",
              "      <td>38</td>\n",
              "      <td>보톡스</td>\n",
              "    </tr>\n",
              "    <tr>\n",
              "      <th>3</th>\n",
              "      <td>곡효애_F_1979-12-25_6393_보톡스_399799_PMT.jpg</td>\n",
              "      <td>곡효애_F_1979-12-25_6393_보톡스_399799.jpg</td>\n",
              "      <td>3.0</td>\n",
              "      <td>6393.0</td>\n",
              "      <td>2018.0</td>\n",
              "      <td>10.0</td>\n",
              "      <td>15.0</td>\n",
              "      <td>13.0</td>\n",
              "      <td>23.0</td>\n",
              "      <td>15.0</td>\n",
              "      <td>2018-10-15</td>\n",
              "      <td>1979-12-25</td>\n",
              "      <td>38</td>\n",
              "      <td>보톡스</td>\n",
              "    </tr>\n",
              "    <tr>\n",
              "      <th>4</th>\n",
              "      <td>고현진_F_1980-09-27_23730_윤곽주사_456266_PMT.jpg</td>\n",
              "      <td>고현진_F_1980-09-27_23730_윤곽주사_456266.jpg</td>\n",
              "      <td>2.0</td>\n",
              "      <td>23730.0</td>\n",
              "      <td>2019.0</td>\n",
              "      <td>3.0</td>\n",
              "      <td>2.0</td>\n",
              "      <td>14.0</td>\n",
              "      <td>5.0</td>\n",
              "      <td>27.0</td>\n",
              "      <td>2019-03-02</td>\n",
              "      <td>1980-09-27</td>\n",
              "      <td>38</td>\n",
              "      <td>윤곽주사</td>\n",
              "    </tr>\n",
              "  </tbody>\n",
              "</table>\n",
              "</div>\n",
              "      <button class=\"colab-df-convert\" onclick=\"convertToInteractive('df-b7bf4889-a19f-4174-bb30-9f1c0bd6ef3e')\"\n",
              "              title=\"Convert this dataframe to an interactive table.\"\n",
              "              style=\"display:none;\">\n",
              "        \n",
              "  <svg xmlns=\"http://www.w3.org/2000/svg\" height=\"24px\"viewBox=\"0 0 24 24\"\n",
              "       width=\"24px\">\n",
              "    <path d=\"M0 0h24v24H0V0z\" fill=\"none\"/>\n",
              "    <path d=\"M18.56 5.44l.94 2.06.94-2.06 2.06-.94-2.06-.94-.94-2.06-.94 2.06-2.06.94zm-11 1L8.5 8.5l.94-2.06 2.06-.94-2.06-.94L8.5 2.5l-.94 2.06-2.06.94zm10 10l.94 2.06.94-2.06 2.06-.94-2.06-.94-.94-2.06-.94 2.06-2.06.94z\"/><path d=\"M17.41 7.96l-1.37-1.37c-.4-.4-.92-.59-1.43-.59-.52 0-1.04.2-1.43.59L10.3 9.45l-7.72 7.72c-.78.78-.78 2.05 0 2.83L4 21.41c.39.39.9.59 1.41.59.51 0 1.02-.2 1.41-.59l7.78-7.78 2.81-2.81c.8-.78.8-2.07 0-2.86zM5.41 20L4 18.59l7.72-7.72 1.47 1.35L5.41 20z\"/>\n",
              "  </svg>\n",
              "      </button>\n",
              "      \n",
              "  <style>\n",
              "    .colab-df-container {\n",
              "      display:flex;\n",
              "      flex-wrap:wrap;\n",
              "      gap: 12px;\n",
              "    }\n",
              "\n",
              "    .colab-df-convert {\n",
              "      background-color: #E8F0FE;\n",
              "      border: none;\n",
              "      border-radius: 50%;\n",
              "      cursor: pointer;\n",
              "      display: none;\n",
              "      fill: #1967D2;\n",
              "      height: 32px;\n",
              "      padding: 0 0 0 0;\n",
              "      width: 32px;\n",
              "    }\n",
              "\n",
              "    .colab-df-convert:hover {\n",
              "      background-color: #E2EBFA;\n",
              "      box-shadow: 0px 1px 2px rgba(60, 64, 67, 0.3), 0px 1px 3px 1px rgba(60, 64, 67, 0.15);\n",
              "      fill: #174EA6;\n",
              "    }\n",
              "\n",
              "    [theme=dark] .colab-df-convert {\n",
              "      background-color: #3B4455;\n",
              "      fill: #D2E3FC;\n",
              "    }\n",
              "\n",
              "    [theme=dark] .colab-df-convert:hover {\n",
              "      background-color: #434B5C;\n",
              "      box-shadow: 0px 1px 3px 1px rgba(0, 0, 0, 0.15);\n",
              "      filter: drop-shadow(0px 1px 2px rgba(0, 0, 0, 0.3));\n",
              "      fill: #FFFFFF;\n",
              "    }\n",
              "  </style>\n",
              "\n",
              "      <script>\n",
              "        const buttonEl =\n",
              "          document.querySelector('#df-b7bf4889-a19f-4174-bb30-9f1c0bd6ef3e button.colab-df-convert');\n",
              "        buttonEl.style.display =\n",
              "          google.colab.kernel.accessAllowed ? 'block' : 'none';\n",
              "\n",
              "        async function convertToInteractive(key) {\n",
              "          const element = document.querySelector('#df-b7bf4889-a19f-4174-bb30-9f1c0bd6ef3e');\n",
              "          const dataTable =\n",
              "            await google.colab.kernel.invokeFunction('convertToInteractive',\n",
              "                                                     [key], {});\n",
              "          if (!dataTable) return;\n",
              "\n",
              "          const docLinkHtml = 'Like what you see? Visit the ' +\n",
              "            '<a target=\"_blank\" href=https://colab.research.google.com/notebooks/data_table.ipynb>data table notebook</a>'\n",
              "            + ' to learn more about interactive tables.';\n",
              "          element.innerHTML = '';\n",
              "          dataTable['output_type'] = 'display_data';\n",
              "          await google.colab.output.renderOutput(dataTable, element);\n",
              "          const docLink = document.createElement('div');\n",
              "          docLink.innerHTML = docLinkHtml;\n",
              "          element.appendChild(docLink);\n",
              "        }\n",
              "      </script>\n",
              "    </div>\n",
              "  </div>\n",
              "  "
            ],
            "text/plain": [
              "                                     filename  ... category\n",
              "0    곡효애_F_1979-12-25_6393_보톡스_399796_PMT.jpg  ...      보톡스\n",
              "1    곡효애_F_1979-12-25_6393_보톡스_399797_PMT.jpg  ...      보톡스\n",
              "2    곡효애_F_1979-12-25_6393_보톡스_399798_PMT.jpg  ...      보톡스\n",
              "3    곡효애_F_1979-12-25_6393_보톡스_399799_PMT.jpg  ...      보톡스\n",
              "4  고현진_F_1980-09-27_23730_윤곽주사_456266_PMT.jpg  ...     윤곽주사\n",
              "\n",
              "[5 rows x 14 columns]"
            ]
          },
          "metadata": {},
          "execution_count": 9
        }
      ],
      "source": [
        "m_valid.head(5)"
      ]
    },
    {
      "cell_type": "code",
      "execution_count": null,
      "metadata": {
        "id": "Oj8S6_g1jP0D"
      },
      "outputs": [],
      "source": [
        "import torch\n",
        "from skimage import io, transform\n",
        "from torch.utils.data import Dataset, DataLoader\n",
        "from torchvision import transforms, utils\n",
        "\n",
        "class CustomDataset(torch.utils.data.Dataset): \n",
        "  def __init__(self, csv_file, root_dir, transform=None):\n",
        "    self.csv_file = pd.read_csv(csv_file)\n",
        "    self.root_dir = root_dir\n",
        "    self.transform = transform\n",
        "\n",
        "  def __len__(self):\n",
        "    load_data = self.csv_file\n",
        "    return len(load_data)\n",
        "  \n",
        "  def __getitem__(self, idx): \n",
        "    img_name = os.path.join(self.root_dir, self.csv_file.iloc[idx, 1])\n",
        "    image = io.imread(img_name)\n",
        "    label = self.csv_file.iloc[idx,2]\n",
        "\n",
        "    # sample = {'image' : image, 'label' : label}\n",
        "    sample = {'image' : image, 'label' : np.array(label)}\n",
        "    if self.transform:\n",
        "      sample = self.transform(sample)\n",
        "    return sample\n",
        "      "
      ]
    },
    {
      "cell_type": "code",
      "execution_count": null,
      "metadata": {
        "id": "OR2RtwJzm5_v"
      },
      "outputs": [],
      "source": [
        "train_ds = CustomDataset('train.csv', '/content/drive/MyDrive/training/')\n",
        "valid_ds = CustomDataset('valid.csv', '/content/drive/MyDrive/valid/')"
      ]
    },
    {
      "cell_type": "code",
      "execution_count": null,
      "metadata": {
        "colab": {
          "base_uri": "https://localhost:8080/"
        },
        "id": "Kyv1B7pHDqD9",
        "outputId": "26c72265-ea97-47e9-f0d7-da8abcbc4d87"
      },
      "outputs": [
        {
          "output_type": "stream",
          "name": "stdout",
          "text": [
            "(96, 100, 3) (96, 100, 3)\n"
          ]
        }
      ],
      "source": [
        "print(train_ds[3]['image'].shape, valid_ds[3]['image'].shape)"
      ]
    },
    {
      "cell_type": "code",
      "execution_count": null,
      "metadata": {
        "id": "3kOXLB-Gm6Ih"
      },
      "outputs": [],
      "source": [
        "# for image, age in dataset:\n",
        "#   print(image.shape)"
      ]
    },
    {
      "cell_type": "code",
      "execution_count": null,
      "metadata": {
        "id": "ChLd0W4iMtpl"
      },
      "outputs": [],
      "source": [
        "class Rescale(object):\n",
        "    \"\"\"Rescale the image in a sample to a given size.\n",
        "\n",
        "    Args:\n",
        "        output_size (tuple or int): Desired output size. If tuple, output is\n",
        "            matched to output_size. If int, smaller of image edges is matched\n",
        "            to output_size keeping aspect ratio the same.\n",
        "    \"\"\"\n",
        "\n",
        "    def __init__(self, output_size):\n",
        "        assert isinstance(output_size, (int, tuple))\n",
        "        self.output_size = output_size\n",
        "\n",
        "    def __call__(self, sample):\n",
        "        image, label = sample['image'], sample['label']\n",
        "        # image, age =sample\n",
        "        h, w = image.shape[:2]\n",
        "        if isinstance(self.output_size, int):\n",
        "            if h > w:\n",
        "                new_h, new_w = self.output_size * h / w, self.output_size\n",
        "            else:\n",
        "                new_h, new_w = self.output_size, self.output_size * w / h\n",
        "        else:\n",
        "            new_h, new_w = self.output_size\n",
        "\n",
        "        new_h, new_w = int(new_h), int(new_w)\n",
        "\n",
        "        img = transform.resize(image, (new_h, new_w))\n",
        "        \n",
        "        # h and w are swapped for landmarks because for images,\n",
        "        # x and y axes are axis 1 and 0 respectively\n",
        "\n",
        "        return {'image' : img, 'label' : label}"
      ]
    },
    {
      "cell_type": "code",
      "execution_count": null,
      "metadata": {
        "id": "F9JqRnOaQ4HE"
      },
      "outputs": [],
      "source": [
        "class ToTensor(object):\n",
        "    \"\"\"Convert ndarrays in sample to Tensors.\"\"\"\n",
        "\n",
        "    def __call__(self, sample):\n",
        "        image = sample['image']\n",
        "        label = sample['label']\n",
        "        # swap color axis because\n",
        "        # numpy image: H x W x C\n",
        "        # torch image: C x H x W\n",
        "        img = image.transpose((2, 0, 1))\n",
        "        # return {'image' : torch.from_numpy(img), 'label' :torch.from_numpy(label)}\n",
        "        return torch.from_numpy(img), torch.from_numpy(label)"
      ]
    },
    {
      "cell_type": "code",
      "execution_count": null,
      "metadata": {
        "colab": {
          "base_uri": "https://localhost:8080/",
          "height": 71
        },
        "id": "tqy5SAunSIUR",
        "outputId": "5e918bce-97e7-4dd7-aaeb-7097b6268dfb"
      },
      "outputs": [
        {
          "output_type": "stream",
          "name": "stdout",
          "text": [
            "(96, 100, 3)\n",
            "(96, 100, 3)\n"
          ]
        },
        {
          "output_type": "display_data",
          "data": {
            "text/plain": [
              "<Figure size 432x288 with 0 Axes>"
            ]
          },
          "metadata": {}
        }
      ],
      "source": [
        "scale = Rescale((96,100))\n",
        "composed = transforms.Compose([Rescale((96,100))])\n",
        "\n",
        "# Apply each of the above transforms on sample.\n",
        "fig = plt.figure()\n",
        "sample = train_ds[65]\n",
        "for i, tsfrm in enumerate([scale,composed]):\n",
        "    transformed_sample = tsfrm(sample)\n",
        "    print(transformed_sample['image'].shape)"
      ]
    },
    {
      "cell_type": "code",
      "execution_count": null,
      "metadata": {
        "id": "agyevLkpRdwL"
      },
      "outputs": [],
      "source": [
        "# transformed_dataset = CustomDataset(csv_file='agedata.csv',root_dir='/content/drive/MyDrive/training/',\n",
        "#                                     transform=transforms.Compose([Rescale((96,100)),ToTensor()]))\n",
        "train_dataset = CustomDataset(csv_file='train.csv',root_dir='/content/drive/MyDrive/training/',  transform=transforms.Compose([\n",
        "                                               Rescale((96,100)),\n",
        "                                               ToTensor()\n",
        "                                           ]))\n",
        "valid_dataset = CustomDataset(csv_file='valid.csv',root_dir='/content/drive/MyDrive/valid/',  transform=transforms.Compose([\n",
        "                                               Rescale((96,100)),\n",
        "                                               ToTensor()\n",
        "                                           ]))"
      ]
    },
    {
      "cell_type": "code",
      "execution_count": null,
      "metadata": {
        "colab": {
          "base_uri": "https://localhost:8080/"
        },
        "id": "NYYNEkFHiKdL",
        "outputId": "b0698cd5-61a5-442a-ebc4-0c39708b97a3"
      },
      "outputs": [
        {
          "output_type": "stream",
          "name": "stdout",
          "text": [
            "<__main__.CustomDataset object at 0x7f212366a750>\n"
          ]
        }
      ],
      "source": [
        "print(train_dataset)\n",
        "# print(transformed_dataset[0]['label'])"
      ]
    },
    {
      "cell_type": "code",
      "execution_count": null,
      "metadata": {
        "id": "LJPjQ50ZR1o4"
      },
      "outputs": [],
      "source": [
        "train_dl = DataLoader(train_dataset, batch_size=8,shuffle=True, num_workers=0)\n",
        "valid_dl = DataLoader(valid_dataset, batch_size=16,shuffle=True, num_workers=0)"
      ]
    },
    {
      "cell_type": "code",
      "execution_count": null,
      "metadata": {
        "colab": {
          "base_uri": "https://localhost:8080/"
        },
        "id": "aZtLethoa3Lm",
        "outputId": "51f8ea07-34f6-4961-e345-3177881a7517"
      },
      "outputs": [
        {
          "output_type": "stream",
          "name": "stdout",
          "text": [
            "torch.Size([8, 3, 96, 100]) torch.Size([8, 1])\n",
            "torch.Size([8, 3, 96, 100]) torch.Size([8, 1])\n",
            "torch.Size([8, 3, 96, 100]) torch.Size([8, 1])\n"
          ]
        }
      ],
      "source": [
        "i= 0\n",
        "\n",
        "for x, y in train_dl:\n",
        "  if i==3:\n",
        "    break\n",
        "  # print(x.shape,y.reshape(len(y),1).shape)\n",
        "  # print(torch.flatten(x, start_dim=1).shape, y)\n",
        "  print(x.shape, y.reshape(len(y),1).shape)\n",
        "  i += 1"
      ]
    },
    {
      "cell_type": "code",
      "execution_count": null,
      "metadata": {
        "id": "dp6Aq7vVVGrn"
      },
      "outputs": [],
      "source": [
        "import torch\n",
        "from torch import nn\n",
        "from torch import optim\n",
        "class Age_Regression(nn.Module):\n",
        "    def __init__(self):\n",
        "        super().__init__()\n",
        "        self.lin1 = nn.Linear(28800, 7200)\n",
        "        self.lin2 = nn.Linear(7200, 100)\n",
        "        self.lin3 = nn.Linear(100, 1)\n",
        "\n",
        "    def forward(self, xb):\n",
        "        xb = torch.flatten(xb, start_dim=1)\n",
        "        xb = self.lin1(xb)\n",
        "        xb = self.lin2(xb)\n",
        "        return self.lin3(xb)"
      ]
    },
    {
      "cell_type": "code",
      "execution_count": null,
      "metadata": {
        "id": "ZAorgf94UnSf"
      },
      "outputs": [],
      "source": [
        "def get_model():\n",
        "    model = Age_Regression()\n",
        "    return model, optim.SGD(model.parameters(), lr=1e-5)"
      ]
    },
    {
      "cell_type": "code",
      "execution_count": null,
      "metadata": {
        "id": "2JefD8gWWaaQ"
      },
      "outputs": [],
      "source": [
        "model, opt = get_model()"
      ]
    },
    {
      "cell_type": "code",
      "execution_count": null,
      "metadata": {
        "id": "QaApYyqzW4Yx"
      },
      "outputs": [],
      "source": [
        "loss_func = nn.MSELoss()"
      ]
    },
    {
      "cell_type": "code",
      "execution_count": null,
      "metadata": {
        "id": "zdjrQ3DDWzty"
      },
      "outputs": [],
      "source": [
        "epochs = 50"
      ]
    },
    {
      "cell_type": "code",
      "execution_count": null,
      "metadata": {
        "colab": {
          "base_uri": "https://localhost:8080/"
        },
        "id": "oTWuyZPYUYwY",
        "outputId": "c681cf1e-0449-4ebb-9542-944e495e9fae"
      },
      "outputs": [
        {
          "output_type": "stream",
          "name": "stdout",
          "text": [
            "0 tensor(1644.2369, grad_fn=<MseLossBackward0>) tensor(544.2067)\n",
            "1 tensor(250.4236, grad_fn=<MseLossBackward0>) tensor(123.8857)\n",
            "2 tensor(57.4288, grad_fn=<MseLossBackward0>) tensor(167.5852)\n",
            "3 tensor(102.1758, grad_fn=<MseLossBackward0>) tensor(183.5249)\n",
            "4 tensor(161.4993, grad_fn=<MseLossBackward0>) tensor(182.0886)\n",
            "5 tensor(58.1181, grad_fn=<MseLossBackward0>) tensor(182.9422)\n",
            "6 tensor(67.1288, grad_fn=<MseLossBackward0>) tensor(252.8690)\n",
            "7 tensor(28.1217, grad_fn=<MseLossBackward0>) tensor(241.9362)\n",
            "8 tensor(69.5658, grad_fn=<MseLossBackward0>) tensor(224.2405)\n",
            "9 tensor(116.7456, grad_fn=<MseLossBackward0>) tensor(172.3393)\n",
            "10 tensor(254.0982, grad_fn=<MseLossBackward0>) tensor(177.6678)\n",
            "11 tensor(166.4672, grad_fn=<MseLossBackward0>) tensor(211.4479)\n",
            "12 tensor(134.5405, grad_fn=<MseLossBackward0>) tensor(187.1370)\n",
            "13 tensor(14.8688, grad_fn=<MseLossBackward0>) tensor(176.2597)\n",
            "14 tensor(66.9589, grad_fn=<MseLossBackward0>) tensor(163.7437)\n",
            "15 tensor(58.3325, grad_fn=<MseLossBackward0>) tensor(158.5863)\n",
            "16 tensor(121.3233, grad_fn=<MseLossBackward0>) tensor(215.3062)\n",
            "17 tensor(41.9316, grad_fn=<MseLossBackward0>) tensor(200.6175)\n",
            "18 tensor(11.0623, grad_fn=<MseLossBackward0>) tensor(173.8542)\n",
            "19 tensor(59.7638, grad_fn=<MseLossBackward0>) tensor(164.0455)\n",
            "20 tensor(46.8424, grad_fn=<MseLossBackward0>) tensor(148.1561)\n",
            "21 tensor(18.3561, grad_fn=<MseLossBackward0>) tensor(340.3953)\n",
            "22 tensor(46.8698, grad_fn=<MseLossBackward0>) tensor(142.1164)\n",
            "23 tensor(84.2128, grad_fn=<MseLossBackward0>) tensor(156.4404)\n",
            "24 tensor(119.7460, grad_fn=<MseLossBackward0>) tensor(190.8974)\n",
            "25 tensor(91.2016, grad_fn=<MseLossBackward0>) tensor(190.9457)\n",
            "26 tensor(25.8302, grad_fn=<MseLossBackward0>) tensor(198.1572)\n",
            "27 tensor(78.6385, grad_fn=<MseLossBackward0>) tensor(190.3107)\n",
            "28 tensor(13.0426, grad_fn=<MseLossBackward0>) tensor(302.3561)\n",
            "29 tensor(113.4415, grad_fn=<MseLossBackward0>) tensor(220.9781)\n",
            "30 tensor(16.4692, grad_fn=<MseLossBackward0>) tensor(196.3619)\n",
            "31 tensor(88.9074, grad_fn=<MseLossBackward0>) tensor(158.0379)\n",
            "32 tensor(123.7921, grad_fn=<MseLossBackward0>) tensor(203.0440)\n",
            "33 tensor(221.3564, grad_fn=<MseLossBackward0>) tensor(159.0807)\n",
            "34 tensor(25.7949, grad_fn=<MseLossBackward0>) tensor(140.1963)\n",
            "35 tensor(87.8692, grad_fn=<MseLossBackward0>) tensor(153.4112)\n",
            "36 tensor(35.0442, grad_fn=<MseLossBackward0>) tensor(153.4918)\n",
            "37 tensor(108.5205, grad_fn=<MseLossBackward0>) tensor(139.7008)\n",
            "38 tensor(72.2294, grad_fn=<MseLossBackward0>) tensor(171.3825)\n",
            "39 tensor(77.7482, grad_fn=<MseLossBackward0>) tensor(159.0132)\n",
            "40 tensor(39.1708, grad_fn=<MseLossBackward0>) tensor(153.7281)\n",
            "41 tensor(62.7738, grad_fn=<MseLossBackward0>) tensor(146.8913)\n",
            "42 tensor(8.4833, grad_fn=<MseLossBackward0>) tensor(143.6413)\n",
            "43 tensor(115.9871, grad_fn=<MseLossBackward0>) tensor(210.1266)\n",
            "44 tensor(94.7334, grad_fn=<MseLossBackward0>) tensor(140.9509)\n",
            "45 tensor(170.3547, grad_fn=<MseLossBackward0>) tensor(160.1801)\n",
            "46 tensor(60.7719, grad_fn=<MseLossBackward0>) tensor(114.7083)\n",
            "47 tensor(85.7103, grad_fn=<MseLossBackward0>) tensor(126.8676)\n",
            "48 tensor(82.7933, grad_fn=<MseLossBackward0>) tensor(166.4074)\n",
            "49 tensor(91.8348, grad_fn=<MseLossBackward0>) tensor(105.8050)\n"
          ]
        }
      ],
      "source": [
        "losses = []\n",
        "for epoch in range(epochs):\n",
        "  model.train()\n",
        "  for train_x,train_y in train_dl:\n",
        "    pred = model(train_x.float())\n",
        "    loss = loss_func(pred, train_y.reshape(len(train_y),1).float())\n",
        "\n",
        "    loss.backward()\n",
        "    opt.step()\n",
        "    opt.zero_grad()\n",
        "\n",
        "  model.eval()\n",
        "  with torch.no_grad():\n",
        "    valid_loss = sum(loss_func(model(xb.float()), yb.reshape(len(yb),1)) for xb, yb in valid_dl)\n",
        "\n",
        "  lossed = loss_func(model(train_x.float()),train_y.reshape(len(train_y),1))\n",
        "  losses.append(lossed)\n",
        "  print(epoch, lossed, valid_loss/len(valid_dl))"
      ]
    },
    {
      "cell_type": "code",
      "source": [
        "torch.save(model.state_dict(),\"fc_model.pth\")"
      ],
      "metadata": {
        "id": "BD2r4RvqSW-e"
      },
      "execution_count": null,
      "outputs": []
    },
    {
      "cell_type": "code",
      "execution_count": null,
      "metadata": {
        "id": "V2zjkybmqMqF"
      },
      "outputs": [],
      "source": [
        "sc = []\n",
        "for lo in losses:\n",
        "  sc.append(lo.item())"
      ]
    },
    {
      "cell_type": "code",
      "execution_count": null,
      "metadata": {
        "colab": {
          "base_uri": "https://localhost:8080/",
          "height": 282
        },
        "id": "iKavWYzeSqTJ",
        "outputId": "c115e2dc-9535-4f01-8847-915c31a97901"
      },
      "outputs": [
        {
          "output_type": "execute_result",
          "data": {
            "text/plain": [
              "[<matplotlib.lines.Line2D at 0x7f2118102950>]"
            ]
          },
          "metadata": {},
          "execution_count": 40
        },
        {
          "output_type": "display_data",
          "data": {
            "image/png": "[encoded data removed]",
            "text/plain": [
              "<Figure size 432x288 with 1 Axes>"
            ]
          },
          "metadata": {
            "needs_background": "light"
          }
        }
      ],
      "source": [
        "plt.plot(sc)"
      ]
    },
    {
      "cell_type": "code",
      "source": [
        ""
      ],
      "metadata": {
        "id": "WgaKtR1OevZU"
      },
      "execution_count": null,
      "outputs": []
    },
    {
      "cell_type": "code",
      "execution_count": null,
      "metadata": {
        "colab": {
          "base_uri": "https://localhost:8080/"
        },
        "id": "juUUnzfqnWR8",
        "outputId": "0d37802b-f96f-4a52-b357-73b2a63856ae"
      },
      "outputs": [
        {
          "name": "stdout",
          "output_type": "stream",
          "text": [
            "image label\n"
          ]
        }
      ],
      "source": [
        "# train_features, train_labels = next(iter(dataloader))\n",
        "# print(train_features, train_labels)"
      ]
    },
    {
      "cell_type": "code",
      "execution_count": null,
      "metadata": {
        "id": "hfln7zdbnWZV"
      },
      "outputs": [],
      "source": [
        "# train_features, train_labels = next(iter(dataloader))\n",
        "# print(f\"Feature batch shape: {train_features.size()}\")\n",
        "# print(f\"Labels batch shape: {train_labels.size()}\")\n",
        "# img = train_features[0].squeeze()\n",
        "# label = train_labels[1]\n",
        "# plt.imshow(img, cmap=\"gray\")\n",
        "# plt.show()"
      ]
    },
    {
      "cell_type": "code",
      "execution_count": null,
      "metadata": {
        "id": "RYD1FKH63a6H"
      },
      "outputs": [],
      "source": [
        "import os\n",
        "import torch\n",
        "from torch import nn\n",
        "from torch.utils.data import DataLoader\n",
        "from torchvision import datasets, transforms\n",
        "\n",
        "class NeuralNetwork(nn.Module):\n",
        "    def __init__(self):\n",
        "        super(NeuralNetwork, self).__init__()\n",
        "        self.relu_stack = nn.Sequential(\n",
        "            nn.Conv2d(3, 32, 3, padding=1),\n",
        "            nn.Conv2d(32, 64, 5, padding=0),\n",
        "            nn.MaxPool2d(2, 2),\n",
        "            nn.Linear(9600, 512),\n",
        "            nn.ReLU(),\n",
        "            nn.Linear(512, 512),\n",
        "            nn.ReLU(),\n",
        "            nn.Linear(512, 1),\n",
        "        )\n",
        "\n",
        "    def forward(self, x):\n",
        "        logits = self.linear_relu_stack(x)\n",
        "        return logits"
      ]
    },
    {
      "cell_type": "code",
      "execution_count": null,
      "metadata": {
        "colab": {
          "base_uri": "https://localhost:8080/"
        },
        "id": "1KTM4mFR3sWe",
        "outputId": "fe37786f-0eb5-4771-813c-399bc1f86af7"
      },
      "outputs": [
        {
          "name": "stdout",
          "output_type": "stream",
          "text": [
            "Using cpu device\n"
          ]
        }
      ],
      "source": [
        "device = 'cuda' if torch.cuda.is_available() else 'cpu'\n",
        "print(f'Using {device} device')"
      ]
    },
    {
      "cell_type": "code",
      "execution_count": null,
      "metadata": {
        "colab": {
          "base_uri": "https://localhost:8080/"
        },
        "id": "cROEta3M3tcl",
        "outputId": "13454d54-cea6-4a73-c03e-cb41371101f9"
      },
      "outputs": [
        {
          "name": "stdout",
          "output_type": "stream",
          "text": [
            "NeuralNetwork(\n",
            "  (flatten): Flatten(start_dim=1, end_dim=-1)\n",
            "  (linear_relu_stack): Sequential(\n",
            "    (0): Linear(in_features=9600, out_features=512, bias=True)\n",
            "    (1): ReLU()\n",
            "    (2): Linear(in_features=512, out_features=512, bias=True)\n",
            "    (3): ReLU()\n",
            "    (4): Linear(in_features=512, out_features=1, bias=True)\n",
            "  )\n",
            ")\n"
          ]
        }
      ],
      "source": [
        "model = NeuralNetwork().to(device)\n",
        "print(model)"
      ]
    },
    {
      "cell_type": "code",
      "execution_count": null,
      "metadata": {
        "colab": {
          "base_uri": "https://localhost:8080/"
        },
        "id": "wCnQBl0C3tsQ",
        "outputId": "7248f0b3-7138-400d-aa0f-ee98ee017a4f"
      },
      "outputs": [
        {
          "name": "stdout",
          "output_type": "stream",
          "text": [
            "Predicted class: tensor([[0.0515],\n",
            "        [0.0711],\n",
            "        [0.0528]], grad_fn=<AddmmBackward0>)\n"
          ]
        }
      ],
      "source": [
        "X = torch.rand(3, 96, 100, device=device)\n",
        "logits = model(X)\n",
        "pred_probab = nn.MSELoss()\n",
        "y_pred = logits\n",
        "print(f\"Predicted class: {y_pred}\")"
      ]
    },
    {
      "cell_type": "code",
      "execution_count": null,
      "metadata": {
        "colab": {
          "base_uri": "https://localhost:8080/",
          "height": 263
        },
        "id": "lozM9kCWn9dn",
        "outputId": "14d34406-2bd8-4b68-a91d-a7e5969d9266"
      },
      "outputs": [
        {
          "name": "stdout",
          "output_type": "stream",
          "text": [
            "Using cpu device\n"
          ]
        },
        {
          "ename": "NameError",
          "evalue": "ignored",
          "output_type": "error",
          "traceback": [
            "\u001b[0;31m---------------------------------------------------------------------------\u001b[0m",
            "\u001b[0;31mNameError\u001b[0m                                 Traceback (most recent call last)",
            "\u001b[0;32m<ipython-input-27-e74185b4cf77>\u001b[0m in \u001b[0;36m<module>\u001b[0;34m()\u001b[0m\n\u001b[1;32m     20\u001b[0m \u001b[0;34m\u001b[0m\u001b[0m\n\u001b[1;32m     21\u001b[0m model = nn.Sequential(\n\u001b[0;32m---> 22\u001b[0;31m     \u001b[0mLambda\u001b[0m\u001b[0;34m(\u001b[0m\u001b[0mpreprocess\u001b[0m\u001b[0;34m)\u001b[0m\u001b[0;34m,\u001b[0m\u001b[0;34m\u001b[0m\u001b[0;34m\u001b[0m\u001b[0m\n\u001b[0m\u001b[1;32m     23\u001b[0m     \u001b[0mnn\u001b[0m\u001b[0;34m.\u001b[0m\u001b[0mConv2d\u001b[0m\u001b[0;34m(\u001b[0m\u001b[0;36m3\u001b[0m\u001b[0;34m,\u001b[0m \u001b[0;36m32\u001b[0m\u001b[0;34m,\u001b[0m \u001b[0;36m3\u001b[0m\u001b[0;34m,\u001b[0m \u001b[0mpadding\u001b[0m\u001b[0;34m=\u001b[0m\u001b[0;36m1\u001b[0m\u001b[0;34m)\u001b[0m\u001b[0;34m,\u001b[0m\u001b[0;34m\u001b[0m\u001b[0;34m\u001b[0m\u001b[0m\n\u001b[1;32m     24\u001b[0m     \u001b[0mnn\u001b[0m\u001b[0;34m.\u001b[0m\u001b[0mConv2d\u001b[0m\u001b[0;34m(\u001b[0m\u001b[0;36m32\u001b[0m\u001b[0;34m,\u001b[0m \u001b[0;36m64\u001b[0m\u001b[0;34m,\u001b[0m \u001b[0mkernel_size\u001b[0m\u001b[0;34m=\u001b[0m\u001b[0;36m3\u001b[0m\u001b[0;34m,\u001b[0m \u001b[0mpadding\u001b[0m\u001b[0;34m=\u001b[0m\u001b[0;36m1\u001b[0m\u001b[0;34m)\u001b[0m\u001b[0;34m,\u001b[0m\u001b[0;34m\u001b[0m\u001b[0;34m\u001b[0m\u001b[0m\n",
            "\u001b[0;31mNameError\u001b[0m: name 'preprocess' is not defined"
          ]
        }
      ],
      "source": [
        "# 모델 선언\n",
        "import torch\n",
        "from torch.utils.data import TensorDataset, DataLoader\n",
        "from skimage import io, transform\n",
        "import torch.nn as nn\n",
        "import torch.nn.functional as F\n",
        "import torch.optim as optim\n",
        "import math\n",
        "\n",
        "device = \"cuda\" if torch.cuda.is_available() else \"cpu\"\n",
        "print(f\"Using {device} device\")\n",
        "\n",
        "class Lambda(nn.Module):\n",
        "    def __init__(self, func):\n",
        "        super().__init__()\n",
        "        self.func = func\n",
        "\n",
        "    def forward(self, x):\n",
        "        return self.func(x)\n",
        "\n",
        "model = nn.Sequential(\n",
        "    Lambda(preprocess),\n",
        "    nn.Conv2d(3, 32, 3, padding=1),\n",
        "    nn.Conv2d(32, 64, kernel_size=3, padding=1),\n",
        "    nn.MaxPool2d(2),\n",
        "    nn.Linear(153600, 7200),\n",
        "    # nn.Linear(38400, 7200),\n",
        "    nn.ReLU(),\n",
        "    nn.Dropout(p=0.5),\n",
        "    nn.Linear(7200, 800), \n",
        "    nn.ReLU(),\n",
        "    nn.Dropout(p=0.5),\n",
        "    nn.Linear(800, 16), \n",
        "    nn.ReLU(),\n",
        "    nn.Linear(16, 1) \n",
        ")\n",
        "\n",
        "print(list(model.parameters()))\n",
        "import math\n",
        "\n",
        "# weights = torch.randn(28800, 1) / math.sqrt(28800)\n",
        "# weights.requires_grad_()\n",
        "# bias = torch.zeros(1, requires_grad=True)\n",
        "\n",
        "optimizer = torch.optim.Adam(model.parameters(), lr=1e-5) \n",
        "loss_fn = nn.MSELoss()\n",
        "losses = []"
      ]
    },
    {
      "cell_type": "code",
      "execution_count": null,
      "metadata": {
        "colab": {
          "base_uri": "https://localhost:8080/",
          "height": 360
        },
        "id": "AYYujcbQ1vVw",
        "outputId": "7b186d5b-ced2-49fd-dcb6-c0d574151ee8"
      },
      "outputs": [
        {
          "ename": "RuntimeError",
          "evalue": "ignored",
          "output_type": "error",
          "traceback": [
            "\u001b[0;31m---------------------------------------------------------------------------\u001b[0m",
            "\u001b[0;31mRuntimeError\u001b[0m                              Traceback (most recent call last)",
            "\u001b[0;32m<ipython-input-147-871bfde7e77e>\u001b[0m in \u001b[0;36m<module>\u001b[0;34m()\u001b[0m\n\u001b[1;32m     24\u001b[0m \u001b[0;34m\u001b[0m\u001b[0m\n\u001b[1;32m     25\u001b[0m         \u001b[0mprint\u001b[0m\u001b[0;34m(\u001b[0m\u001b[0mepoch\u001b[0m\u001b[0;34m,\u001b[0m \u001b[0mval_loss\u001b[0m\u001b[0;34m)\u001b[0m\u001b[0;34m\u001b[0m\u001b[0;34m\u001b[0m\u001b[0m\n\u001b[0;32m---> 26\u001b[0;31m \u001b[0mfit\u001b[0m\u001b[0;34m(\u001b[0m\u001b[0mepochs\u001b[0m\u001b[0;34m,\u001b[0m \u001b[0mmodel\u001b[0m\u001b[0;34m,\u001b[0m \u001b[0mloss_fn\u001b[0m\u001b[0;34m,\u001b[0m \u001b[0moptimizer\u001b[0m\u001b[0;34m,\u001b[0m \u001b[0mdataloader\u001b[0m\u001b[0;34m,\u001b[0m \u001b[0mdataloader\u001b[0m\u001b[0;34m)\u001b[0m\u001b[0;34m\u001b[0m\u001b[0;34m\u001b[0m\u001b[0m\n\u001b[0m",
            "\u001b[0;32m<ipython-input-147-871bfde7e77e>\u001b[0m in \u001b[0;36mfit\u001b[0;34m(epochs, model, loss_func, opt, train_dl, valid_dl)\u001b[0m\n\u001b[1;32m     14\u001b[0m         \u001b[0mmodel\u001b[0m\u001b[0;34m.\u001b[0m\u001b[0mtrain\u001b[0m\u001b[0;34m(\u001b[0m\u001b[0;34m)\u001b[0m\u001b[0;34m\u001b[0m\u001b[0;34m\u001b[0m\u001b[0m\n\u001b[1;32m     15\u001b[0m         \u001b[0;32mfor\u001b[0m \u001b[0mxb\u001b[0m\u001b[0;34m,\u001b[0m \u001b[0myb\u001b[0m \u001b[0;32min\u001b[0m \u001b[0mtrain_dl\u001b[0m\u001b[0;34m:\u001b[0m\u001b[0;34m\u001b[0m\u001b[0;34m\u001b[0m\u001b[0m\n\u001b[0;32m---> 16\u001b[0;31m             \u001b[0mloss_batch\u001b[0m\u001b[0;34m(\u001b[0m\u001b[0mmodel\u001b[0m\u001b[0;34m,\u001b[0m \u001b[0mloss_func\u001b[0m\u001b[0;34m,\u001b[0m \u001b[0mxb\u001b[0m\u001b[0;34m,\u001b[0m \u001b[0myb\u001b[0m\u001b[0;34m,\u001b[0m \u001b[0mopt\u001b[0m\u001b[0;34m)\u001b[0m\u001b[0;34m\u001b[0m\u001b[0;34m\u001b[0m\u001b[0m\n\u001b[0m\u001b[1;32m     17\u001b[0m \u001b[0;34m\u001b[0m\u001b[0m\n\u001b[1;32m     18\u001b[0m         \u001b[0mmodel\u001b[0m\u001b[0;34m.\u001b[0m\u001b[0meval\u001b[0m\u001b[0;34m(\u001b[0m\u001b[0;34m)\u001b[0m\u001b[0;34m\u001b[0m\u001b[0;34m\u001b[0m\u001b[0m\n",
            "\u001b[0;32m<ipython-input-147-871bfde7e77e>\u001b[0m in \u001b[0;36mloss_batch\u001b[0;34m(model, loss_func, xb, yb, opt)\u001b[0m\n\u001b[1;32m      1\u001b[0m \u001b[0mepochs\u001b[0m \u001b[0;34m=\u001b[0m \u001b[0;36m500\u001b[0m\u001b[0;34m\u001b[0m\u001b[0;34m\u001b[0m\u001b[0m\n\u001b[1;32m      2\u001b[0m \u001b[0;32mdef\u001b[0m \u001b[0mloss_batch\u001b[0m\u001b[0;34m(\u001b[0m\u001b[0mmodel\u001b[0m\u001b[0;34m,\u001b[0m \u001b[0mloss_func\u001b[0m\u001b[0;34m,\u001b[0m \u001b[0mxb\u001b[0m\u001b[0;34m,\u001b[0m \u001b[0myb\u001b[0m\u001b[0;34m,\u001b[0m \u001b[0mopt\u001b[0m\u001b[0;34m=\u001b[0m\u001b[0;32mNone\u001b[0m\u001b[0;34m)\u001b[0m\u001b[0;34m:\u001b[0m\u001b[0;34m\u001b[0m\u001b[0;34m\u001b[0m\u001b[0m\n\u001b[0;32m----> 3\u001b[0;31m     \u001b[0mloss\u001b[0m \u001b[0;34m=\u001b[0m \u001b[0mloss_func\u001b[0m\u001b[0;34m(\u001b[0m\u001b[0mmodel\u001b[0m\u001b[0;34m(\u001b[0m\u001b[0mxb\u001b[0m\u001b[0;34m)\u001b[0m\u001b[0;34m,\u001b[0m \u001b[0myb\u001b[0m\u001b[0;34m)\u001b[0m\u001b[0;34m\u001b[0m\u001b[0;34m\u001b[0m\u001b[0m\n\u001b[0m\u001b[1;32m      4\u001b[0m \u001b[0;34m\u001b[0m\u001b[0m\n\u001b[1;32m      5\u001b[0m     \u001b[0;32mif\u001b[0m \u001b[0mopt\u001b[0m \u001b[0;32mis\u001b[0m \u001b[0;32mnot\u001b[0m \u001b[0;32mNone\u001b[0m\u001b[0;34m:\u001b[0m\u001b[0;34m\u001b[0m\u001b[0;34m\u001b[0m\u001b[0m\n",
            "\u001b[0;32m/usr/local/lib/python3.7/dist-packages/torch/nn/modules/module.py\u001b[0m in \u001b[0;36m_call_impl\u001b[0;34m(self, *input, **kwargs)\u001b[0m\n\u001b[1;32m   1100\u001b[0m         if not (self._backward_hooks or self._forward_hooks or self._forward_pre_hooks or _global_backward_hooks\n\u001b[1;32m   1101\u001b[0m                 or _global_forward_hooks or _global_forward_pre_hooks):\n\u001b[0;32m-> 1102\u001b[0;31m             \u001b[0;32mreturn\u001b[0m \u001b[0mforward_call\u001b[0m\u001b[0;34m(\u001b[0m\u001b[0;34m*\u001b[0m\u001b[0minput\u001b[0m\u001b[0;34m,\u001b[0m \u001b[0;34m**\u001b[0m\u001b[0mkwargs\u001b[0m\u001b[0;34m)\u001b[0m\u001b[0;34m\u001b[0m\u001b[0;34m\u001b[0m\u001b[0m\n\u001b[0m\u001b[1;32m   1103\u001b[0m         \u001b[0;31m# Do not call functions when jit is used\u001b[0m\u001b[0;34m\u001b[0m\u001b[0;34m\u001b[0m\u001b[0;34m\u001b[0m\u001b[0m\n\u001b[1;32m   1104\u001b[0m         \u001b[0mfull_backward_hooks\u001b[0m\u001b[0;34m,\u001b[0m \u001b[0mnon_full_backward_hooks\u001b[0m \u001b[0;34m=\u001b[0m \u001b[0;34m[\u001b[0m\u001b[0;34m]\u001b[0m\u001b[0;34m,\u001b[0m \u001b[0;34m[\u001b[0m\u001b[0;34m]\u001b[0m\u001b[0;34m\u001b[0m\u001b[0;34m\u001b[0m\u001b[0m\n",
            "\u001b[0;32m/usr/local/lib/python3.7/dist-packages/torch/nn/modules/container.py\u001b[0m in \u001b[0;36mforward\u001b[0;34m(self, input)\u001b[0m\n\u001b[1;32m    139\u001b[0m     \u001b[0;32mdef\u001b[0m \u001b[0mforward\u001b[0m\u001b[0;34m(\u001b[0m\u001b[0mself\u001b[0m\u001b[0;34m,\u001b[0m \u001b[0minput\u001b[0m\u001b[0;34m)\u001b[0m\u001b[0;34m:\u001b[0m\u001b[0;34m\u001b[0m\u001b[0;34m\u001b[0m\u001b[0m\n\u001b[1;32m    140\u001b[0m         \u001b[0;32mfor\u001b[0m \u001b[0mmodule\u001b[0m \u001b[0;32min\u001b[0m \u001b[0mself\u001b[0m\u001b[0;34m:\u001b[0m\u001b[0;34m\u001b[0m\u001b[0;34m\u001b[0m\u001b[0m\n\u001b[0;32m--> 141\u001b[0;31m             \u001b[0minput\u001b[0m \u001b[0;34m=\u001b[0m \u001b[0mmodule\u001b[0m\u001b[0;34m(\u001b[0m\u001b[0minput\u001b[0m\u001b[0;34m)\u001b[0m\u001b[0;34m\u001b[0m\u001b[0;34m\u001b[0m\u001b[0m\n\u001b[0m\u001b[1;32m    142\u001b[0m         \u001b[0;32mreturn\u001b[0m \u001b[0minput\u001b[0m\u001b[0;34m\u001b[0m\u001b[0;34m\u001b[0m\u001b[0m\n\u001b[1;32m    143\u001b[0m \u001b[0;34m\u001b[0m\u001b[0m\n",
            "\u001b[0;32m/usr/local/lib/python3.7/dist-packages/torch/nn/modules/module.py\u001b[0m in \u001b[0;36m_call_impl\u001b[0;34m(self, *input, **kwargs)\u001b[0m\n\u001b[1;32m   1100\u001b[0m         if not (self._backward_hooks or self._forward_hooks or self._forward_pre_hooks or _global_backward_hooks\n\u001b[1;32m   1101\u001b[0m                 or _global_forward_hooks or _global_forward_pre_hooks):\n\u001b[0;32m-> 1102\u001b[0;31m             \u001b[0;32mreturn\u001b[0m \u001b[0mforward_call\u001b[0m\u001b[0;34m(\u001b[0m\u001b[0;34m*\u001b[0m\u001b[0minput\u001b[0m\u001b[0;34m,\u001b[0m \u001b[0;34m**\u001b[0m\u001b[0mkwargs\u001b[0m\u001b[0;34m)\u001b[0m\u001b[0;34m\u001b[0m\u001b[0;34m\u001b[0m\u001b[0m\n\u001b[0m\u001b[1;32m   1103\u001b[0m         \u001b[0;31m# Do not call functions when jit is used\u001b[0m\u001b[0;34m\u001b[0m\u001b[0;34m\u001b[0m\u001b[0;34m\u001b[0m\u001b[0m\n\u001b[1;32m   1104\u001b[0m         \u001b[0mfull_backward_hooks\u001b[0m\u001b[0;34m,\u001b[0m \u001b[0mnon_full_backward_hooks\u001b[0m \u001b[0;34m=\u001b[0m \u001b[0;34m[\u001b[0m\u001b[0;34m]\u001b[0m\u001b[0;34m,\u001b[0m \u001b[0;34m[\u001b[0m\u001b[0;34m]\u001b[0m\u001b[0;34m\u001b[0m\u001b[0;34m\u001b[0m\u001b[0m\n",
            "\u001b[0;32m/usr/local/lib/python3.7/dist-packages/torch/nn/modules/conv.py\u001b[0m in \u001b[0;36mforward\u001b[0;34m(self, input)\u001b[0m\n\u001b[1;32m    444\u001b[0m \u001b[0;34m\u001b[0m\u001b[0m\n\u001b[1;32m    445\u001b[0m     \u001b[0;32mdef\u001b[0m \u001b[0mforward\u001b[0m\u001b[0;34m(\u001b[0m\u001b[0mself\u001b[0m\u001b[0;34m,\u001b[0m \u001b[0minput\u001b[0m\u001b[0;34m:\u001b[0m \u001b[0mTensor\u001b[0m\u001b[0;34m)\u001b[0m \u001b[0;34m->\u001b[0m \u001b[0mTensor\u001b[0m\u001b[0;34m:\u001b[0m\u001b[0;34m\u001b[0m\u001b[0;34m\u001b[0m\u001b[0m\n\u001b[0;32m--> 446\u001b[0;31m         \u001b[0;32mreturn\u001b[0m \u001b[0mself\u001b[0m\u001b[0;34m.\u001b[0m\u001b[0m_conv_forward\u001b[0m\u001b[0;34m(\u001b[0m\u001b[0minput\u001b[0m\u001b[0;34m,\u001b[0m \u001b[0mself\u001b[0m\u001b[0;34m.\u001b[0m\u001b[0mweight\u001b[0m\u001b[0;34m,\u001b[0m \u001b[0mself\u001b[0m\u001b[0;34m.\u001b[0m\u001b[0mbias\u001b[0m\u001b[0;34m)\u001b[0m\u001b[0;34m\u001b[0m\u001b[0;34m\u001b[0m\u001b[0m\n\u001b[0m\u001b[1;32m    447\u001b[0m \u001b[0;34m\u001b[0m\u001b[0m\n\u001b[1;32m    448\u001b[0m \u001b[0;32mclass\u001b[0m \u001b[0mConv3d\u001b[0m\u001b[0;34m(\u001b[0m\u001b[0m_ConvNd\u001b[0m\u001b[0;34m)\u001b[0m\u001b[0;34m:\u001b[0m\u001b[0;34m\u001b[0m\u001b[0;34m\u001b[0m\u001b[0m\n",
            "\u001b[0;32m/usr/local/lib/python3.7/dist-packages/torch/nn/modules/conv.py\u001b[0m in \u001b[0;36m_conv_forward\u001b[0;34m(self, input, weight, bias)\u001b[0m\n\u001b[1;32m    441\u001b[0m                             _pair(0), self.dilation, self.groups)\n\u001b[1;32m    442\u001b[0m         return F.conv2d(input, weight, bias, self.stride,\n\u001b[0;32m--> 443\u001b[0;31m                         self.padding, self.dilation, self.groups)\n\u001b[0m\u001b[1;32m    444\u001b[0m \u001b[0;34m\u001b[0m\u001b[0m\n\u001b[1;32m    445\u001b[0m     \u001b[0;32mdef\u001b[0m \u001b[0mforward\u001b[0m\u001b[0;34m(\u001b[0m\u001b[0mself\u001b[0m\u001b[0;34m,\u001b[0m \u001b[0minput\u001b[0m\u001b[0;34m:\u001b[0m \u001b[0mTensor\u001b[0m\u001b[0;34m)\u001b[0m \u001b[0;34m->\u001b[0m \u001b[0mTensor\u001b[0m\u001b[0;34m:\u001b[0m\u001b[0;34m\u001b[0m\u001b[0;34m\u001b[0m\u001b[0m\n",
            "\u001b[0;31mRuntimeError\u001b[0m: Given groups=1, weight of size [32, 3, 3, 3], expected input[4, 96, 100, 3] to have 3 channels, but got 96 channels instead"
          ]
        }
      ],
      "source": [
        "epochs = 500\n",
        "def loss_batch(model, loss_func, xb, yb, opt=None):\n",
        "    loss = loss_func(model(xb), yb)\n",
        "\n",
        "    if opt is not None:\n",
        "        loss.backward()\n",
        "        opt.step()\n",
        "        opt.zero_grad()\n",
        "\n",
        "    return loss.item(), len(xb)\n",
        "\n",
        "def fit(epochs, model, loss_func, opt, train_dl, valid_dl):\n",
        "    for epoch in range(epochs):\n",
        "        model.train()\n",
        "        for xb, yb in train_dl:\n",
        "            loss_batch(model, loss_func, xb, yb, opt)\n",
        "\n",
        "        model.eval()\n",
        "        with torch.no_grad():\n",
        "            losses, nums = zip(\n",
        "                *[loss_batch(model, loss_func, xb, yb) for xb, yb in valid_dl]\n",
        "            )\n",
        "        val_loss = np.sum(np.multiply(losses, nums)) / np.sum(nums)\n",
        "\n",
        "        print(epoch, val_loss)\n",
        "fit(epochs, model, loss_fn, optimizer, dataloader, dataloader)\n"
      ]
    },
    {
      "cell_type": "code",
      "execution_count": null,
      "metadata": {
        "colab": {
          "base_uri": "https://localhost:8080/"
        },
        "id": "-ZcS8labIemV",
        "outputId": "83711e03-5c92-4243-b3b6-84e762571402"
      },
      "outputs": [
        {
          "name": "stdout",
          "output_type": "stream",
          "text": [
            "torch.Size([86]) torch.Size([153, 28800])\n"
          ]
        }
      ],
      "source": [
        "\n",
        "for epoch in range(nb_epochs+1):\n",
        "\n",
        "    # H(x) 계산\n",
        "    prediction = model(x_train)\n",
        "    # model(x_train)은 model.forward(x_train)와 동일함.\n",
        "    # print(prediction.shape, y_train.shape)\n",
        "    # cost 계산\n",
        "    loss = loss_fn(prediction, y_train.reshape(20,1)) # <== 파이토치에서 제공하는 평균 제곱 오차 함수\n",
        "\n",
        "    # cost로 H(x) 개선하는 부분\n",
        "    # gradient를 0으로 초기화\n",
        "    # optimizer.zero_grad()\n",
        "    # 비용 함수를 미분하여 gradient 계산\n",
        "    loss.backward()\n",
        "    # W와 b를 업데이트\n",
        "    optimizer.step()\n",
        "\n",
        "    if epoch % 100 == 0:\n",
        "    # 100번마다 로그 출력\n",
        "      print('Epoch {:4d}/{} Cost: {:.6f}'.format(\n",
        "          epoch, nb_epochs, loss.item()\n",
        "      ))\n",
        "    \n",
        "    losses.append(loss.item())\n",
        "print(y_valid.shape, x_valid.shape)"
      ]
    },
    {
      "cell_type": "code",
      "execution_count": null,
      "metadata": {
        "colab": {
          "base_uri": "https://localhost:8080/"
        },
        "id": "9fQMbMDDbVbT",
        "outputId": "2177ac7c-6f67-4806-9bfd-86fbdd8ecccc"
      },
      "outputs": [
        {
          "name": "stdout",
          "output_type": "stream",
          "text": [
            "Using cuda device\n"
          ]
        }
      ],
      "source": [
        "# 모델 선언\n",
        "import torch\n",
        "from torch.utils.data import TensorDataset, DataLoader\n",
        "from skimage import io, transform\n",
        "import torch.nn as nn\n",
        "import torch.nn.functional as F\n",
        "import torch.optim as optim\n",
        "import math\n",
        "\n",
        "device = \"cuda\" if torch.cuda.is_available() else \"cpu\"\n",
        "print(f\"Using {device} device\")\n",
        "# x_train, y_train, x_valid, y_valid = map(\n",
        "#     torch.tensor, (x_train/255, y_train, x_valid/255, y_valid)\n",
        "# )\n",
        "dataset = TensorDataset(x_train, y_train)\n",
        "dataloader = DataLoader(dataset, batch_size=10, shuffle=True)\n",
        "\n",
        "# print(x_train.shape)\n",
        "# n, c = x_train.shape\n",
        "# print(x_train, y_train)\n",
        "# print(x_train.shape)\n",
        "# print(y_train.min(), y_train.max())"
      ]
    },
    {
      "cell_type": "code",
      "execution_count": null,
      "metadata": {
        "id": "QAKagneeqCnr"
      },
      "outputs": [],
      "source": [
        "model = nn.Sequential(\n",
        "    # nn.Conv2d(3, 32, 3, padding=1),\n",
        "    # nn.Conv2d(32, 64, kernel_size=3, padding=1),\n",
        "    # nn.MaxPool2d(2),\n",
        "    # nn.Linear(153600, 7200),\n",
        "    nn.Linear(28800, 7200),\n",
        "    nn.ReLU(),\n",
        "    nn.Dropout(p=0.5),\n",
        "    nn.Linear(7200, 800), \n",
        "    nn.ReLU(),\n",
        "    nn.Dropout(p=0.5),\n",
        "    nn.Linear(800, 16), \n",
        "    nn.ReLU(),\n",
        "    nn.Linear(16, 1) \n",
        ")\n",
        "print(list(model.parameters()))\n",
        "import math\n",
        "\n",
        "# weights = torch.randn(28800, 1) / math.sqrt(28800)\n",
        "# weights.requires_grad_()\n",
        "# bias = torch.zeros(1, requires_grad=True)\n",
        "\n",
        "optimizer = torch.optim.Adam(model.parameters(), lr=1e-5) \n",
        "loss_fn = nn.MSELoss()\n",
        "losses = []"
      ]
    },
    {
      "cell_type": "code",
      "execution_count": null,
      "metadata": {
        "id": "ckkS51lObVxF"
      },
      "outputs": [],
      "source": [
        ""
      ]
    },
    {
      "cell_type": "code",
      "execution_count": null,
      "metadata": {
        "id": "MWdfBz45bV05"
      },
      "outputs": [],
      "source": [
        ""
      ]
    },
    {
      "cell_type": "code",
      "execution_count": null,
      "metadata": {
        "id": "ifGIaH5sbV4c"
      },
      "outputs": [],
      "source": [
        ""
      ]
    },
    {
      "cell_type": "code",
      "execution_count": null,
      "metadata": {
        "id": "suUH-Ci8bV7t"
      },
      "outputs": [],
      "source": [
        ""
      ]
    },
    {
      "cell_type": "code",
      "execution_count": null,
      "metadata": {
        "id": "JfoSLJEibV_f"
      },
      "outputs": [],
      "source": [
        ""
      ]
    }
  ],
  "metadata": {
    "colab": {
      "collapsed_sections": [],
      "name": "custom_age_model.ipynb",
      "provenance": [],
      "authorship_tag": "ABX9TyPGlrkAwAE70jeE6U+Qrz8Y",
      "include_colab_link": true
    },
    "kernelspec": {
      "display_name": "Python 3",
      "name": "python3"
    },
    "language_info": {
      "name": "python"
    }
  },
  "nbformat": 4,
  "nbformat_minor": 0
}