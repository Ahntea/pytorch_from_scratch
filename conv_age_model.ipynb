{
  "cells": [
    {
      "cell_type": "markdown",
      "metadata": {
        "id": "view-in-github",
        "colab_type": "text"
      },
      "source": [
        "<a href=\"https://colab.research.google.com/github/Ahntea/pytorch_from_scratch/blob/main/conv_age_model.ipynb\" target=\"_parent\"><img src=\"https://colab.research.google.com/assets/colab-badge.svg\" alt=\"Open In Colab\"/></a>"
      ]
    },
    {
      "cell_type": "code",
      "execution_count": 1,
      "metadata": {
        "colab": {
          "base_uri": "https://localhost:8080/"
        },
        "id": "20oYsK8UbGjr",
        "outputId": "c459ad77-0481-4cf9-eb40-97b7d81e3007"
      },
      "outputs": [
        {
          "output_type": "stream",
          "name": "stdout",
          "text": [
            "Drive already mounted at /content/drive; to attempt to forcibly remount, call drive.mount(\"/content/drive\", force_remount=True).\n"
          ]
        }
      ],
      "source": [
        "from google.colab import drive\n",
        "drive.mount('/content/drive')\n",
        "from PIL import Image\n",
        "import numpy as np\n",
        "import pandas as pd\n",
        "import matplotlib.font_manager as fm\n",
        "import os\n",
        "\n",
        "!apt-get -qq -y install fonts-nanum > /dev/null\n",
        "fontpath = '/usr/share/fonts/truetype/nanum/NanumBarunGothic.ttf'\n",
        "font = fm.FontProperties(fname=fontpath, size=9)\n",
        "fm._rebuild()\n",
        "# 단계 3: 한글 폰트 설정\n",
        "import matplotlib.pyplot as plt\n",
        "import matplotlib as mpl\n",
        "import matplotlib.font_manager as fm\n",
        "\n",
        "# 마이너스 표시 문제\n",
        "mpl.rcParams['axes.unicode_minus'] = False\n",
        "\t\n",
        "# 한글 폰트 설정\n",
        "path = '/usr/share/fonts/truetype/nanum/NanumGothicBold.ttf'\n",
        "font_name = fm.FontProperties(fname=path, size=18).get_name()\n",
        "plt.rc('font', family=font_name)\n",
        "fm._rebuild()\n",
        "\n",
        "# filename = \"/content/drive/MyDrive/thumbnail_list.txt\"\n",
        "train_filename = \"/content/drive/MyDrive/training_list.txt\"\n",
        "valid_filename = \"/content/drive/MyDrive/valid_list.txt\"\n",
        "\n",
        "import unicodedata"
      ]
    },
    {
      "cell_type": "code",
      "execution_count": 2,
      "metadata": {
        "id": "i4odJ3NvmHb0"
      },
      "outputs": [],
      "source": [
        "# !(ls drive/MyDrive/training >> training_list.txt)\n",
        "# !(ls drive/MyDrive/valid >> valid_list.txt)"
      ]
    },
    {
      "cell_type": "code",
      "execution_count": 3,
      "metadata": {
        "id": "u5hCE4FAbTZV"
      },
      "outputs": [],
      "source": [
        "# 한글 변환\n",
        "train_list = []\n",
        "with open(train_filename) as f:\n",
        "    for line in f:\n",
        "        train_list.append(unicodedata.normalize(\"NFC\", line.strip()))\n",
        "\n",
        "valid_list = []\n",
        "with open(valid_filename) as f:\n",
        "    for line in f:\n",
        "        valid_list.append(unicodedata.normalize(\"NFC\", line.strip()))"
      ]
    },
    {
      "cell_type": "code",
      "execution_count": 4,
      "metadata": {
        "id": "nFMByd2sbUAT"
      },
      "outputs": [],
      "source": [
        "# train dataframe 생성\n",
        "pd_train = pd.DataFrame(train_list)\n",
        "pd_train[\"image\"]= pd_train[0].str.replace('_PMT.jpg', '.jpg')\n",
        "pd_train.rename(columns = {0:\"filename\"}, inplace = True)\n",
        "\n",
        "# valid dataframe 생성\n",
        "pd_valid = pd.DataFrame(valid_list)\n",
        "pd_valid[\"image\"]= pd_valid[0].str.replace('_PMT.jpg', '.jpg')\n",
        "pd_valid.rename(columns = {0:\"filename\"}, inplace = True)"
      ]
    },
    {
      "cell_type": "code",
      "execution_count": 5,
      "metadata": {
        "id": "lJ2UziTebVNk"
      },
      "outputs": [],
      "source": [
        "# image 생성날짜 dataframe 로드 및 merge\n",
        "imt = pd.read_csv(\"/content/drive/MyDrive/csv_image_table_1015.csv\")\n",
        "\n",
        "merged = pd.merge(pd_train, imt, how=\"left\", on = \"image\" )\n",
        "merged['gen_date'] = pd.to_datetime(merged[['year','month','day']], format='%Y%m%d')\n",
        "merged[\"birth_date\"] = merged[\"image\"].str.split('_', expand=True)[2]\n",
        "merged[\"birth_date\"] = merged[\"birth_date\"].astype(\"datetime64[ns]\")\n",
        "merged[\"age\"] = (merged[\"gen_date\"] - merged[\"birth_date\"]) / np.timedelta64(1, 'Y')\n",
        "merged[\"age\"].fillna(35, inplace=True)\n",
        "merged[\"age\"] = merged[\"age\"].astype(int)\n",
        "merged.loc[merged[\"age\"]==119, \"age\"] = 19\n",
        "merged[\"category\"] = merged[\"image\"].str.split('_', expand=True)[4]\n",
        "d_ages = merged[['filename','age']].set_index('filename').T.to_dict('list')"
      ]
    },
    {
      "cell_type": "code",
      "execution_count": 6,
      "metadata": {
        "id": "UL-dYTclpID8"
      },
      "outputs": [],
      "source": [
        "merged.to_csv('train.csv',\n",
        "                  sep=',',na_rep='NaN',columns = ['image','filename', 'age'],index = False)"
      ]
    },
    {
      "cell_type": "code",
      "execution_count": 7,
      "metadata": {
        "id": "j_1cbPCu0l0v"
      },
      "outputs": [],
      "source": [
        "# image 생성날짜 dataframe 로드 및 merge\n",
        "imt = pd.read_csv(\"/content/drive/MyDrive/csv_image_table_1015.csv\")\n",
        "\n",
        "m_valid = pd.merge(pd_valid, imt, how=\"left\", on = \"image\" )\n",
        "m_valid['gen_date'] = pd.to_datetime(m_valid[['year','month','day']], format='%Y%m%d')\n",
        "m_valid[\"birth_date\"] = m_valid[\"image\"].str.split('_', expand=True)[2]\n",
        "m_valid[\"birth_date\"] = m_valid[\"birth_date\"].astype(\"datetime64[ns]\")\n",
        "m_valid[\"age\"] = (m_valid[\"gen_date\"] - m_valid[\"birth_date\"]) / np.timedelta64(1, 'Y')\n",
        "m_valid[\"age\"].fillna(35, inplace=True)\n",
        "m_valid[\"age\"] = m_valid[\"age\"].astype(int)\n",
        "m_valid.loc[m_valid[\"age\"]==119, \"age\"] = 19\n",
        "m_valid[\"category\"] = m_valid[\"image\"].str.split('_', expand=True)[4]\n",
        "valid_ages = m_valid[['filename','age']].set_index('filename').T.to_dict('list')\n",
        "m_valid.to_csv('valid.csv',\n",
        "                  sep=',',na_rep='NaN',columns = ['image','filename', 'age'],index = False)"
      ]
    },
    {
      "cell_type": "code",
      "execution_count": 8,
      "metadata": {
        "id": "aW2qORYa1CVu",
        "colab": {
          "base_uri": "https://localhost:8080/",
          "height": 441
        },
        "outputId": "52f2e209-f507-4361-b3dd-8b9e6a6bcc87"
      },
      "outputs": [
        {
          "output_type": "execute_result",
          "data": {
            "text/html": [
              "\n",
              "  <div id=\"df-6a441f0e-c182-4631-a3fc-6ee6d229f215\">\n",
              "    <div class=\"colab-df-container\">\n",
              "      <div>\n",
              "<style scoped>\n",
              "    .dataframe tbody tr th:only-of-type {\n",
              "        vertical-align: middle;\n",
              "    }\n",
              "\n",
              "    .dataframe tbody tr th {\n",
              "        vertical-align: top;\n",
              "    }\n",
              "\n",
              "    .dataframe thead th {\n",
              "        text-align: right;\n",
              "    }\n",
              "</style>\n",
              "<table border=\"1\" class=\"dataframe\">\n",
              "  <thead>\n",
              "    <tr style=\"text-align: right;\">\n",
              "      <th></th>\n",
              "      <th>filename</th>\n",
              "      <th>image</th>\n",
              "      <th>Unnamed: 0</th>\n",
              "      <th>folder_num</th>\n",
              "      <th>year</th>\n",
              "      <th>month</th>\n",
              "      <th>day</th>\n",
              "      <th>hour</th>\n",
              "      <th>min</th>\n",
              "      <th>sec</th>\n",
              "      <th>gen_date</th>\n",
              "      <th>birth_date</th>\n",
              "      <th>age</th>\n",
              "      <th>category</th>\n",
              "    </tr>\n",
              "  </thead>\n",
              "  <tbody>\n",
              "    <tr>\n",
              "      <th>0</th>\n",
              "      <td>곡효애_F_1979-12-25_6393_보톡스_399796_PMT.jpg</td>\n",
              "      <td>곡효애_F_1979-12-25_6393_보톡스_399796.jpg</td>\n",
              "      <td>0.0</td>\n",
              "      <td>6393.0</td>\n",
              "      <td>2018.0</td>\n",
              "      <td>10.0</td>\n",
              "      <td>15.0</td>\n",
              "      <td>13.0</td>\n",
              "      <td>23.0</td>\n",
              "      <td>0.0</td>\n",
              "      <td>2018-10-15</td>\n",
              "      <td>1979-12-25</td>\n",
              "      <td>38</td>\n",
              "      <td>보톡스</td>\n",
              "    </tr>\n",
              "    <tr>\n",
              "      <th>1</th>\n",
              "      <td>곡효애_F_1979-12-25_6393_보톡스_399797_PMT.jpg</td>\n",
              "      <td>곡효애_F_1979-12-25_6393_보톡스_399797.jpg</td>\n",
              "      <td>1.0</td>\n",
              "      <td>6393.0</td>\n",
              "      <td>2018.0</td>\n",
              "      <td>10.0</td>\n",
              "      <td>15.0</td>\n",
              "      <td>13.0</td>\n",
              "      <td>23.0</td>\n",
              "      <td>5.0</td>\n",
              "      <td>2018-10-15</td>\n",
              "      <td>1979-12-25</td>\n",
              "      <td>38</td>\n",
              "      <td>보톡스</td>\n",
              "    </tr>\n",
              "    <tr>\n",
              "      <th>2</th>\n",
              "      <td>곡효애_F_1979-12-25_6393_보톡스_399798_PMT.jpg</td>\n",
              "      <td>곡효애_F_1979-12-25_6393_보톡스_399798.jpg</td>\n",
              "      <td>2.0</td>\n",
              "      <td>6393.0</td>\n",
              "      <td>2018.0</td>\n",
              "      <td>10.0</td>\n",
              "      <td>15.0</td>\n",
              "      <td>13.0</td>\n",
              "      <td>23.0</td>\n",
              "      <td>10.0</td>\n",
              "      <td>2018-10-15</td>\n",
              "      <td>1979-12-25</td>\n",
              "      <td>38</td>\n",
              "      <td>보톡스</td>\n",
              "    </tr>\n",
              "    <tr>\n",
              "      <th>3</th>\n",
              "      <td>곡효애_F_1979-12-25_6393_보톡스_399799_PMT.jpg</td>\n",
              "      <td>곡효애_F_1979-12-25_6393_보톡스_399799.jpg</td>\n",
              "      <td>3.0</td>\n",
              "      <td>6393.0</td>\n",
              "      <td>2018.0</td>\n",
              "      <td>10.0</td>\n",
              "      <td>15.0</td>\n",
              "      <td>13.0</td>\n",
              "      <td>23.0</td>\n",
              "      <td>15.0</td>\n",
              "      <td>2018-10-15</td>\n",
              "      <td>1979-12-25</td>\n",
              "      <td>38</td>\n",
              "      <td>보톡스</td>\n",
              "    </tr>\n",
              "    <tr>\n",
              "      <th>4</th>\n",
              "      <td>고현진_F_1980-09-27_23730_윤곽주사_456266_PMT.jpg</td>\n",
              "      <td>고현진_F_1980-09-27_23730_윤곽주사_456266.jpg</td>\n",
              "      <td>2.0</td>\n",
              "      <td>23730.0</td>\n",
              "      <td>2019.0</td>\n",
              "      <td>3.0</td>\n",
              "      <td>2.0</td>\n",
              "      <td>14.0</td>\n",
              "      <td>5.0</td>\n",
              "      <td>27.0</td>\n",
              "      <td>2019-03-02</td>\n",
              "      <td>1980-09-27</td>\n",
              "      <td>38</td>\n",
              "      <td>윤곽주사</td>\n",
              "    </tr>\n",
              "  </tbody>\n",
              "</table>\n",
              "</div>\n",
              "      <button class=\"colab-df-convert\" onclick=\"convertToInteractive('df-6a441f0e-c182-4631-a3fc-6ee6d229f215')\"\n",
              "              title=\"Convert this dataframe to an interactive table.\"\n",
              "              style=\"display:none;\">\n",
              "        \n",
              "  <svg xmlns=\"http://www.w3.org/2000/svg\" height=\"24px\"viewBox=\"0 0 24 24\"\n",
              "       width=\"24px\">\n",
              "    <path d=\"M0 0h24v24H0V0z\" fill=\"none\"/>\n",
              "    <path d=\"M18.56 5.44l.94 2.06.94-2.06 2.06-.94-2.06-.94-.94-2.06-.94 2.06-2.06.94zm-11 1L8.5 8.5l.94-2.06 2.06-.94-2.06-.94L8.5 2.5l-.94 2.06-2.06.94zm10 10l.94 2.06.94-2.06 2.06-.94-2.06-.94-.94-2.06-.94 2.06-2.06.94z\"/><path d=\"M17.41 7.96l-1.37-1.37c-.4-.4-.92-.59-1.43-.59-.52 0-1.04.2-1.43.59L10.3 9.45l-7.72 7.72c-.78.78-.78 2.05 0 2.83L4 21.41c.39.39.9.59 1.41.59.51 0 1.02-.2 1.41-.59l7.78-7.78 2.81-2.81c.8-.78.8-2.07 0-2.86zM5.41 20L4 18.59l7.72-7.72 1.47 1.35L5.41 20z\"/>\n",
              "  </svg>\n",
              "      </button>\n",
              "      \n",
              "  <style>\n",
              "    .colab-df-container {\n",
              "      display:flex;\n",
              "      flex-wrap:wrap;\n",
              "      gap: 12px;\n",
              "    }\n",
              "\n",
              "    .colab-df-convert {\n",
              "      background-color: #E8F0FE;\n",
              "      border: none;\n",
              "      border-radius: 50%;\n",
              "      cursor: pointer;\n",
              "      display: none;\n",
              "      fill: #1967D2;\n",
              "      height: 32px;\n",
              "      padding: 0 0 0 0;\n",
              "      width: 32px;\n",
              "    }\n",
              "\n",
              "    .colab-df-convert:hover {\n",
              "      background-color: #E2EBFA;\n",
              "      box-shadow: 0px 1px 2px rgba(60, 64, 67, 0.3), 0px 1px 3px 1px rgba(60, 64, 67, 0.15);\n",
              "      fill: #174EA6;\n",
              "    }\n",
              "\n",
              "    [theme=dark] .colab-df-convert {\n",
              "      background-color: #3B4455;\n",
              "      fill: #D2E3FC;\n",
              "    }\n",
              "\n",
              "    [theme=dark] .colab-df-convert:hover {\n",
              "      background-color: #434B5C;\n",
              "      box-shadow: 0px 1px 3px 1px rgba(0, 0, 0, 0.15);\n",
              "      filter: drop-shadow(0px 1px 2px rgba(0, 0, 0, 0.3));\n",
              "      fill: #FFFFFF;\n",
              "    }\n",
              "  </style>\n",
              "\n",
              "      <script>\n",
              "        const buttonEl =\n",
              "          document.querySelector('#df-6a441f0e-c182-4631-a3fc-6ee6d229f215 button.colab-df-convert');\n",
              "        buttonEl.style.display =\n",
              "          google.colab.kernel.accessAllowed ? 'block' : 'none';\n",
              "\n",
              "        async function convertToInteractive(key) {\n",
              "          const element = document.querySelector('#df-6a441f0e-c182-4631-a3fc-6ee6d229f215');\n",
              "          const dataTable =\n",
              "            await google.colab.kernel.invokeFunction('convertToInteractive',\n",
              "                                                     [key], {});\n",
              "          if (!dataTable) return;\n",
              "\n",
              "          const docLinkHtml = 'Like what you see? Visit the ' +\n",
              "            '<a target=\"_blank\" href=https://colab.research.google.com/notebooks/data_table.ipynb>data table notebook</a>'\n",
              "            + ' to learn more about interactive tables.';\n",
              "          element.innerHTML = '';\n",
              "          dataTable['output_type'] = 'display_data';\n",
              "          await google.colab.output.renderOutput(dataTable, element);\n",
              "          const docLink = document.createElement('div');\n",
              "          docLink.innerHTML = docLinkHtml;\n",
              "          element.appendChild(docLink);\n",
              "        }\n",
              "      </script>\n",
              "    </div>\n",
              "  </div>\n",
              "  "
            ],
            "text/plain": [
              "                                     filename  ... category\n",
              "0    곡효애_F_1979-12-25_6393_보톡스_399796_PMT.jpg  ...      보톡스\n",
              "1    곡효애_F_1979-12-25_6393_보톡스_399797_PMT.jpg  ...      보톡스\n",
              "2    곡효애_F_1979-12-25_6393_보톡스_399798_PMT.jpg  ...      보톡스\n",
              "3    곡효애_F_1979-12-25_6393_보톡스_399799_PMT.jpg  ...      보톡스\n",
              "4  고현진_F_1980-09-27_23730_윤곽주사_456266_PMT.jpg  ...     윤곽주사\n",
              "\n",
              "[5 rows x 14 columns]"
            ]
          },
          "metadata": {},
          "execution_count": 8
        }
      ],
      "source": [
        "m_valid.head(5)"
      ]
    },
    {
      "cell_type": "code",
      "execution_count": 9,
      "metadata": {
        "id": "Oj8S6_g1jP0D"
      },
      "outputs": [],
      "source": [
        "import torch\n",
        "from skimage import io, transform\n",
        "from torch.utils.data import Dataset, DataLoader\n",
        "from torchvision import transforms, utils\n",
        "\n",
        "class CustomDataset(torch.utils.data.Dataset): \n",
        "  def __init__(self, csv_file, root_dir, transform=None):\n",
        "    self.csv_file = pd.read_csv(csv_file)\n",
        "    self.root_dir = root_dir\n",
        "    self.transform = transform\n",
        "\n",
        "  def __len__(self):\n",
        "    load_data = self.csv_file\n",
        "    return len(load_data)\n",
        "  \n",
        "  def __getitem__(self, idx): \n",
        "    img_name = os.path.join(self.root_dir, self.csv_file.iloc[idx, 1])\n",
        "    image = io.imread(img_name)\n",
        "    label = self.csv_file.iloc[idx,2]\n",
        "\n",
        "    # sample = {'image' : image, 'label' : label}\n",
        "    sample = {'image' : image, 'label' : np.array(label)}\n",
        "    if self.transform:\n",
        "      sample = self.transform(sample)\n",
        "    return sample\n",
        "      "
      ]
    },
    {
      "cell_type": "code",
      "execution_count": 10,
      "metadata": {
        "id": "OR2RtwJzm5_v"
      },
      "outputs": [],
      "source": [
        "train_ds = CustomDataset('train.csv', '/content/drive/MyDrive/training/')\n",
        "valid_ds = CustomDataset('valid.csv', '/content/drive/MyDrive/valid/')"
      ]
    },
    {
      "cell_type": "code",
      "execution_count": 11,
      "metadata": {
        "colab": {
          "base_uri": "https://localhost:8080/"
        },
        "id": "Kyv1B7pHDqD9",
        "outputId": "bf4d5285-24eb-476d-e3b0-452d243c517c"
      },
      "outputs": [
        {
          "output_type": "stream",
          "name": "stdout",
          "text": [
            "(96, 100, 3) (96, 100, 3)\n"
          ]
        }
      ],
      "source": [
        "print(train_ds[3]['image'].shape, valid_ds[3]['image'].shape)"
      ]
    },
    {
      "cell_type": "code",
      "execution_count": 12,
      "metadata": {
        "id": "3kOXLB-Gm6Ih"
      },
      "outputs": [],
      "source": [
        "# for image, age in dataset:\n",
        "#   print(image.shape)"
      ]
    },
    {
      "cell_type": "code",
      "execution_count": 13,
      "metadata": {
        "id": "ChLd0W4iMtpl"
      },
      "outputs": [],
      "source": [
        "class Rescale(object):\n",
        "    \"\"\"Rescale the image in a sample to a given size.\n",
        "\n",
        "    Args:\n",
        "        output_size (tuple or int): Desired output size. If tuple, output is\n",
        "            matched to output_size. If int, smaller of image edges is matched\n",
        "            to output_size keeping aspect ratio the same.\n",
        "    \"\"\"\n",
        "\n",
        "    def __init__(self, output_size):\n",
        "        assert isinstance(output_size, (int, tuple))\n",
        "        self.output_size = output_size\n",
        "\n",
        "    def __call__(self, sample):\n",
        "        image, label = sample['image'], sample['label']\n",
        "        # image, age =sample\n",
        "        h, w = image.shape[:2]\n",
        "        if isinstance(self.output_size, int):\n",
        "            if h > w:\n",
        "                new_h, new_w = self.output_size * h / w, self.output_size\n",
        "            else:\n",
        "                new_h, new_w = self.output_size, self.output_size * w / h\n",
        "        else:\n",
        "            new_h, new_w = self.output_size\n",
        "\n",
        "        new_h, new_w = int(new_h), int(new_w)\n",
        "\n",
        "        img = transform.resize(image, (new_h, new_w))\n",
        "        \n",
        "        # h and w are swapped for landmarks because for images,\n",
        "        # x and y axes are axis 1 and 0 respectively\n",
        "\n",
        "        return {'image' : img, 'label' : label}"
      ]
    },
    {
      "cell_type": "code",
      "execution_count": 14,
      "metadata": {
        "id": "F9JqRnOaQ4HE"
      },
      "outputs": [],
      "source": [
        "class ToTensor(object):\n",
        "    \"\"\"Convert ndarrays in sample to Tensors.\"\"\"\n",
        "\n",
        "    def __call__(self, sample):\n",
        "        image = sample['image']\n",
        "        label = sample['label']\n",
        "        # swap color axis because\n",
        "        # numpy image: H x W x C\n",
        "        # torch image: C x H x W\n",
        "        img = image.transpose((2, 0, 1))\n",
        "        # return {'image' : torch.from_numpy(img), 'label' :torch.from_numpy(label)}\n",
        "        return torch.from_numpy(img).float(), torch.from_numpy(label).float()"
      ]
    },
    {
      "cell_type": "code",
      "execution_count": 15,
      "metadata": {
        "colab": {
          "base_uri": "https://localhost:8080/",
          "height": 71
        },
        "id": "tqy5SAunSIUR",
        "outputId": "d9afbfe0-03cd-444f-c3af-2b332a1ff1a5"
      },
      "outputs": [
        {
          "output_type": "stream",
          "name": "stdout",
          "text": [
            "(96, 100, 3)\n",
            "(96, 100, 3)\n"
          ]
        },
        {
          "output_type": "display_data",
          "data": {
            "text/plain": [
              "<Figure size 432x288 with 0 Axes>"
            ]
          },
          "metadata": {}
        }
      ],
      "source": [
        "scale = Rescale((96,100))\n",
        "composed = transforms.Compose([Rescale((96,100))])\n",
        "\n",
        "# Apply each of the above transforms on sample.\n",
        "fig = plt.figure()\n",
        "sample = train_ds[65]\n",
        "for i, tsfrm in enumerate([scale,composed]):\n",
        "    transformed_sample = tsfrm(sample)\n",
        "    print(transformed_sample['image'].shape)"
      ]
    },
    {
      "cell_type": "code",
      "execution_count": 16,
      "metadata": {
        "id": "agyevLkpRdwL"
      },
      "outputs": [],
      "source": [
        "# transformed_dataset = CustomDataset(csv_file='agedata.csv',root_dir='/content/drive/MyDrive/training/',\n",
        "#                                     transform=transforms.Compose([Rescale((96,100)),ToTensor()]))\n",
        "train_dataset = CustomDataset(csv_file='train.csv',root_dir='/content/drive/MyDrive/training/',  transform=transforms.Compose([\n",
        "                                               Rescale((96,100)),\n",
        "                                               ToTensor()\n",
        "                                           ]))\n",
        "valid_dataset = CustomDataset(csv_file='valid.csv',root_dir='/content/drive/MyDrive/valid/',  transform=transforms.Compose([\n",
        "                                               Rescale((96,100)),\n",
        "                                               ToTensor()\n",
        "                                           ]))"
      ]
    },
    {
      "cell_type": "code",
      "execution_count": 17,
      "metadata": {
        "colab": {
          "base_uri": "https://localhost:8080/"
        },
        "id": "NYYNEkFHiKdL",
        "outputId": "df1a4b35-1a21-45cf-8794-b842e0f748f2"
      },
      "outputs": [
        {
          "output_type": "stream",
          "name": "stdout",
          "text": [
            "<__main__.CustomDataset object at 0x7ff984d3eb50>\n"
          ]
        }
      ],
      "source": [
        "print(train_dataset)\n",
        "# print(transformed_dataset[0]['label'])"
      ]
    },
    {
      "cell_type": "code",
      "execution_count": 18,
      "metadata": {
        "id": "LJPjQ50ZR1o4"
      },
      "outputs": [],
      "source": [
        "train_dl = DataLoader(train_dataset, batch_size=8,shuffle=True, num_workers=0)\n",
        "valid_dl = DataLoader(valid_dataset, batch_size=16,shuffle=True, num_workers=0)"
      ]
    },
    {
      "cell_type": "code",
      "execution_count": 19,
      "metadata": {
        "colab": {
          "base_uri": "https://localhost:8080/"
        },
        "id": "aZtLethoa3Lm",
        "outputId": "93257414-3156-4855-b4c5-79f9149db7cb"
      },
      "outputs": [
        {
          "output_type": "stream",
          "name": "stdout",
          "text": [
            "torch.Size([8, 3, 96, 100]) torch.Size([8, 1])\n",
            "torch.Size([8, 3, 96, 100]) torch.Size([8, 1])\n",
            "torch.Size([8, 3, 96, 100]) torch.Size([8, 1])\n"
          ]
        }
      ],
      "source": [
        "i= 0\n",
        "\n",
        "for x, y in train_dl:\n",
        "  if i==3:\n",
        "    break\n",
        "  # print(x.shape,y.reshape(len(y),1).shape)\n",
        "  # print(torch.flatten(x, start_dim=1).shape, y)\n",
        "  print(x.shape, y.reshape(len(y),1).shape)\n",
        "  i += 1"
      ]
    },
    {
      "cell_type": "code",
      "execution_count": 38,
      "metadata": {
        "id": "dp6Aq7vVVGrn"
      },
      "outputs": [],
      "source": [
        "import torch\n",
        "from torch import nn\n",
        "from torch import optim\n",
        "class Age_Regression(nn.Module):\n",
        "    def __init__(self):\n",
        "        super().__init__()\n",
        "        self.lin1 = nn.Linear(28800, 7200)\n",
        "        self.lin2 = nn.Linear(7200, 100)\n",
        "        self.lin3 = nn.Linear(100, 1)\n",
        "\n",
        "    def forward(self, xb):\n",
        "        xb = torch.flatten(xb, start_dim=1)\n",
        "        xb = self.lin1(xb)\n",
        "        xb = self.lin2(xb)\n",
        "        return self.lin3(xb)"
      ]
    },
    {
      "cell_type": "code",
      "execution_count": 39,
      "metadata": {
        "id": "ZAorgf94UnSf"
      },
      "outputs": [],
      "source": [
        "def get_model():\n",
        "    model = Age_Regression()\n",
        "    return model, optim.SGD(model.parameters(), lr=1e-5)"
      ]
    },
    {
      "cell_type": "code",
      "execution_count": 40,
      "metadata": {
        "id": "2JefD8gWWaaQ"
      },
      "outputs": [],
      "source": [
        "model, opt = get_model()"
      ]
    },
    {
      "cell_type": "code",
      "execution_count": 41,
      "metadata": {
        "id": "QaApYyqzW4Yx"
      },
      "outputs": [],
      "source": [
        "loss_func = nn.MSELoss()"
      ]
    },
    {
      "cell_type": "code",
      "execution_count": 42,
      "metadata": {
        "id": "zdjrQ3DDWzty"
      },
      "outputs": [],
      "source": [
        "epochs = 50"
      ]
    },
    {
      "cell_type": "code",
      "execution_count": 44,
      "metadata": {
        "colab": {
          "base_uri": "https://localhost:8080/",
          "height": 396
        },
        "id": "oTWuyZPYUYwY",
        "outputId": "0fa8c01b-182b-407a-fc77-a3279240cbca"
      },
      "outputs": [
        {
          "output_type": "error",
          "ename": "KeyboardInterrupt",
          "evalue": "ignored",
          "traceback": [
            "\u001b[0;31m---------------------------------------------------------------------------\u001b[0m",
            "\u001b[0;31mKeyboardInterrupt\u001b[0m                         Traceback (most recent call last)",
            "\u001b[0;32m<ipython-input-44-5f2d6fab808a>\u001b[0m in \u001b[0;36m<module>\u001b[0;34m()\u001b[0m\n\u001b[1;32m      4\u001b[0m   \u001b[0;32mfor\u001b[0m \u001b[0mtrain_x\u001b[0m\u001b[0;34m,\u001b[0m\u001b[0mtrain_y\u001b[0m \u001b[0;32min\u001b[0m \u001b[0mtrain_dl\u001b[0m\u001b[0;34m:\u001b[0m\u001b[0;34m\u001b[0m\u001b[0;34m\u001b[0m\u001b[0m\n\u001b[1;32m      5\u001b[0m     \u001b[0;31m# pred = model(train_x.float())\u001b[0m\u001b[0;34m\u001b[0m\u001b[0;34m\u001b[0m\u001b[0;34m\u001b[0m\u001b[0m\n\u001b[0;32m----> 6\u001b[0;31m     \u001b[0mpred\u001b[0m \u001b[0;34m=\u001b[0m \u001b[0mmodel\u001b[0m\u001b[0;34m(\u001b[0m\u001b[0mtrain_x\u001b[0m\u001b[0;34m)\u001b[0m\u001b[0;34m\u001b[0m\u001b[0;34m\u001b[0m\u001b[0m\n\u001b[0m\u001b[1;32m      7\u001b[0m     \u001b[0;31m# loss = loss_func(pred, train_y.reshape(len(train_y),1).float())\u001b[0m\u001b[0;34m\u001b[0m\u001b[0;34m\u001b[0m\u001b[0;34m\u001b[0m\u001b[0m\n\u001b[1;32m      8\u001b[0m     \u001b[0mloss\u001b[0m \u001b[0;34m=\u001b[0m \u001b[0mloss_func\u001b[0m\u001b[0;34m(\u001b[0m\u001b[0mpred\u001b[0m\u001b[0;34m,\u001b[0m \u001b[0mtrain_y\u001b[0m\u001b[0;34m.\u001b[0m\u001b[0mreshape\u001b[0m\u001b[0;34m(\u001b[0m\u001b[0mlen\u001b[0m\u001b[0;34m(\u001b[0m\u001b[0mtrain_y\u001b[0m\u001b[0;34m)\u001b[0m\u001b[0;34m,\u001b[0m\u001b[0;36m1\u001b[0m\u001b[0;34m)\u001b[0m\u001b[0;34m)\u001b[0m\u001b[0;34m\u001b[0m\u001b[0;34m\u001b[0m\u001b[0m\n",
            "\u001b[0;32m/usr/local/lib/python3.7/dist-packages/torch/nn/modules/module.py\u001b[0m in \u001b[0;36m_call_impl\u001b[0;34m(self, *input, **kwargs)\u001b[0m\n\u001b[1;32m   1100\u001b[0m         if not (self._backward_hooks or self._forward_hooks or self._forward_pre_hooks or _global_backward_hooks\n\u001b[1;32m   1101\u001b[0m                 or _global_forward_hooks or _global_forward_pre_hooks):\n\u001b[0;32m-> 1102\u001b[0;31m             \u001b[0;32mreturn\u001b[0m \u001b[0mforward_call\u001b[0m\u001b[0;34m(\u001b[0m\u001b[0;34m*\u001b[0m\u001b[0minput\u001b[0m\u001b[0;34m,\u001b[0m \u001b[0;34m**\u001b[0m\u001b[0mkwargs\u001b[0m\u001b[0;34m)\u001b[0m\u001b[0;34m\u001b[0m\u001b[0;34m\u001b[0m\u001b[0m\n\u001b[0m\u001b[1;32m   1103\u001b[0m         \u001b[0;31m# Do not call functions when jit is used\u001b[0m\u001b[0;34m\u001b[0m\u001b[0;34m\u001b[0m\u001b[0;34m\u001b[0m\u001b[0m\n\u001b[1;32m   1104\u001b[0m         \u001b[0mfull_backward_hooks\u001b[0m\u001b[0;34m,\u001b[0m \u001b[0mnon_full_backward_hooks\u001b[0m \u001b[0;34m=\u001b[0m \u001b[0;34m[\u001b[0m\u001b[0;34m]\u001b[0m\u001b[0;34m,\u001b[0m \u001b[0;34m[\u001b[0m\u001b[0;34m]\u001b[0m\u001b[0;34m\u001b[0m\u001b[0;34m\u001b[0m\u001b[0m\n",
            "\u001b[0;32m<ipython-input-38-2af2d0330de4>\u001b[0m in \u001b[0;36mforward\u001b[0;34m(self, xb)\u001b[0m\n\u001b[1;32m     11\u001b[0m     \u001b[0;32mdef\u001b[0m \u001b[0mforward\u001b[0m\u001b[0;34m(\u001b[0m\u001b[0mself\u001b[0m\u001b[0;34m,\u001b[0m \u001b[0mxb\u001b[0m\u001b[0;34m)\u001b[0m\u001b[0;34m:\u001b[0m\u001b[0;34m\u001b[0m\u001b[0;34m\u001b[0m\u001b[0m\n\u001b[1;32m     12\u001b[0m         \u001b[0mxb\u001b[0m \u001b[0;34m=\u001b[0m \u001b[0mtorch\u001b[0m\u001b[0;34m.\u001b[0m\u001b[0mflatten\u001b[0m\u001b[0;34m(\u001b[0m\u001b[0mxb\u001b[0m\u001b[0;34m,\u001b[0m \u001b[0mstart_dim\u001b[0m\u001b[0;34m=\u001b[0m\u001b[0;36m1\u001b[0m\u001b[0;34m)\u001b[0m\u001b[0;34m\u001b[0m\u001b[0;34m\u001b[0m\u001b[0m\n\u001b[0;32m---> 13\u001b[0;31m         \u001b[0mxb\u001b[0m \u001b[0;34m=\u001b[0m \u001b[0mself\u001b[0m\u001b[0;34m.\u001b[0m\u001b[0mlin1\u001b[0m\u001b[0;34m(\u001b[0m\u001b[0mxb\u001b[0m\u001b[0;34m)\u001b[0m\u001b[0;34m\u001b[0m\u001b[0;34m\u001b[0m\u001b[0m\n\u001b[0m\u001b[1;32m     14\u001b[0m         \u001b[0mxb\u001b[0m \u001b[0;34m=\u001b[0m \u001b[0mself\u001b[0m\u001b[0;34m.\u001b[0m\u001b[0mlin2\u001b[0m\u001b[0;34m(\u001b[0m\u001b[0mxb\u001b[0m\u001b[0;34m)\u001b[0m\u001b[0;34m\u001b[0m\u001b[0;34m\u001b[0m\u001b[0m\n\u001b[1;32m     15\u001b[0m         \u001b[0;32mreturn\u001b[0m \u001b[0mself\u001b[0m\u001b[0;34m.\u001b[0m\u001b[0mlin3\u001b[0m\u001b[0;34m(\u001b[0m\u001b[0mxb\u001b[0m\u001b[0;34m)\u001b[0m\u001b[0;34m\u001b[0m\u001b[0;34m\u001b[0m\u001b[0m\n",
            "\u001b[0;32m/usr/local/lib/python3.7/dist-packages/torch/nn/modules/module.py\u001b[0m in \u001b[0;36m_call_impl\u001b[0;34m(self, *input, **kwargs)\u001b[0m\n\u001b[1;32m   1100\u001b[0m         if not (self._backward_hooks or self._forward_hooks or self._forward_pre_hooks or _global_backward_hooks\n\u001b[1;32m   1101\u001b[0m                 or _global_forward_hooks or _global_forward_pre_hooks):\n\u001b[0;32m-> 1102\u001b[0;31m             \u001b[0;32mreturn\u001b[0m \u001b[0mforward_call\u001b[0m\u001b[0;34m(\u001b[0m\u001b[0;34m*\u001b[0m\u001b[0minput\u001b[0m\u001b[0;34m,\u001b[0m \u001b[0;34m**\u001b[0m\u001b[0mkwargs\u001b[0m\u001b[0;34m)\u001b[0m\u001b[0;34m\u001b[0m\u001b[0;34m\u001b[0m\u001b[0m\n\u001b[0m\u001b[1;32m   1103\u001b[0m         \u001b[0;31m# Do not call functions when jit is used\u001b[0m\u001b[0;34m\u001b[0m\u001b[0;34m\u001b[0m\u001b[0;34m\u001b[0m\u001b[0m\n\u001b[1;32m   1104\u001b[0m         \u001b[0mfull_backward_hooks\u001b[0m\u001b[0;34m,\u001b[0m \u001b[0mnon_full_backward_hooks\u001b[0m \u001b[0;34m=\u001b[0m \u001b[0;34m[\u001b[0m\u001b[0;34m]\u001b[0m\u001b[0;34m,\u001b[0m \u001b[0;34m[\u001b[0m\u001b[0;34m]\u001b[0m\u001b[0;34m\u001b[0m\u001b[0;34m\u001b[0m\u001b[0m\n",
            "\u001b[0;32m/usr/local/lib/python3.7/dist-packages/torch/nn/modules/linear.py\u001b[0m in \u001b[0;36mforward\u001b[0;34m(self, input)\u001b[0m\n\u001b[1;32m    101\u001b[0m \u001b[0;34m\u001b[0m\u001b[0m\n\u001b[1;32m    102\u001b[0m     \u001b[0;32mdef\u001b[0m \u001b[0mforward\u001b[0m\u001b[0;34m(\u001b[0m\u001b[0mself\u001b[0m\u001b[0;34m,\u001b[0m \u001b[0minput\u001b[0m\u001b[0;34m:\u001b[0m \u001b[0mTensor\u001b[0m\u001b[0;34m)\u001b[0m \u001b[0;34m->\u001b[0m \u001b[0mTensor\u001b[0m\u001b[0;34m:\u001b[0m\u001b[0;34m\u001b[0m\u001b[0;34m\u001b[0m\u001b[0m\n\u001b[0;32m--> 103\u001b[0;31m         \u001b[0;32mreturn\u001b[0m \u001b[0mF\u001b[0m\u001b[0;34m.\u001b[0m\u001b[0mlinear\u001b[0m\u001b[0;34m(\u001b[0m\u001b[0minput\u001b[0m\u001b[0;34m,\u001b[0m \u001b[0mself\u001b[0m\u001b[0;34m.\u001b[0m\u001b[0mweight\u001b[0m\u001b[0;34m,\u001b[0m \u001b[0mself\u001b[0m\u001b[0;34m.\u001b[0m\u001b[0mbias\u001b[0m\u001b[0;34m)\u001b[0m\u001b[0;34m\u001b[0m\u001b[0;34m\u001b[0m\u001b[0m\n\u001b[0m\u001b[1;32m    104\u001b[0m \u001b[0;34m\u001b[0m\u001b[0m\n\u001b[1;32m    105\u001b[0m     \u001b[0;32mdef\u001b[0m \u001b[0mextra_repr\u001b[0m\u001b[0;34m(\u001b[0m\u001b[0mself\u001b[0m\u001b[0;34m)\u001b[0m \u001b[0;34m->\u001b[0m \u001b[0mstr\u001b[0m\u001b[0;34m:\u001b[0m\u001b[0;34m\u001b[0m\u001b[0;34m\u001b[0m\u001b[0m\n",
            "\u001b[0;32m/usr/local/lib/python3.7/dist-packages/torch/nn/functional.py\u001b[0m in \u001b[0;36mlinear\u001b[0;34m(input, weight, bias)\u001b[0m\n\u001b[1;32m   1846\u001b[0m     \u001b[0;32mif\u001b[0m \u001b[0mhas_torch_function_variadic\u001b[0m\u001b[0;34m(\u001b[0m\u001b[0minput\u001b[0m\u001b[0;34m,\u001b[0m \u001b[0mweight\u001b[0m\u001b[0;34m,\u001b[0m \u001b[0mbias\u001b[0m\u001b[0;34m)\u001b[0m\u001b[0;34m:\u001b[0m\u001b[0;34m\u001b[0m\u001b[0;34m\u001b[0m\u001b[0m\n\u001b[1;32m   1847\u001b[0m         \u001b[0;32mreturn\u001b[0m \u001b[0mhandle_torch_function\u001b[0m\u001b[0;34m(\u001b[0m\u001b[0mlinear\u001b[0m\u001b[0;34m,\u001b[0m \u001b[0;34m(\u001b[0m\u001b[0minput\u001b[0m\u001b[0;34m,\u001b[0m \u001b[0mweight\u001b[0m\u001b[0;34m,\u001b[0m \u001b[0mbias\u001b[0m\u001b[0;34m)\u001b[0m\u001b[0;34m,\u001b[0m \u001b[0minput\u001b[0m\u001b[0;34m,\u001b[0m \u001b[0mweight\u001b[0m\u001b[0;34m,\u001b[0m \u001b[0mbias\u001b[0m\u001b[0;34m=\u001b[0m\u001b[0mbias\u001b[0m\u001b[0;34m)\u001b[0m\u001b[0;34m\u001b[0m\u001b[0;34m\u001b[0m\u001b[0m\n\u001b[0;32m-> 1848\u001b[0;31m     \u001b[0;32mreturn\u001b[0m \u001b[0mtorch\u001b[0m\u001b[0;34m.\u001b[0m\u001b[0m_C\u001b[0m\u001b[0;34m.\u001b[0m\u001b[0m_nn\u001b[0m\u001b[0;34m.\u001b[0m\u001b[0mlinear\u001b[0m\u001b[0;34m(\u001b[0m\u001b[0minput\u001b[0m\u001b[0;34m,\u001b[0m \u001b[0mweight\u001b[0m\u001b[0;34m,\u001b[0m \u001b[0mbias\u001b[0m\u001b[0;34m)\u001b[0m\u001b[0;34m\u001b[0m\u001b[0;34m\u001b[0m\u001b[0m\n\u001b[0m\u001b[1;32m   1849\u001b[0m \u001b[0;34m\u001b[0m\u001b[0m\n\u001b[1;32m   1850\u001b[0m \u001b[0;34m\u001b[0m\u001b[0m\n",
            "\u001b[0;31mKeyboardInterrupt\u001b[0m: "
          ]
        }
      ],
      "source": [
        "losses = []\n",
        "for epoch in range(epochs):\n",
        "  model.train()\n",
        "  for train_x,train_y in train_dl:\n",
        "    # pred = model(train_x.float())\n",
        "    pred = model(train_x)\n",
        "    # loss = loss_func(pred, train_y.reshape(len(train_y),1).float())\n",
        "    loss = loss_func(pred, train_y.reshape(len(train_y),1))\n",
        "\n",
        "    loss.backward()\n",
        "    opt.step()\n",
        "    opt.zero_grad()\n",
        "\n",
        "  model.eval()\n",
        "  with torch.no_grad():\n",
        "    # valid_loss = sum(loss_func(model(xb.float()), yb.reshape(len(yb),1)) for xb, yb in valid_dl)\n",
        "    valid_loss = sum(loss_func(model(xb), yb.reshape(len(yb),1)) for xb, yb in valid_dl)\n",
        "\n",
        "  # lossed = loss_func(model(train_x.float()),train_y.reshape(len(train_y),1))\n",
        "  lossed = loss_func(model(train_x),train_y.reshape(len(train_y),1))\n",
        "  losses.append(lossed)\n",
        "  print(epoch, lossed, valid_loss/len(valid_dl))"
      ]
    },
    {
      "cell_type": "code",
      "source": [
        "torch.save(model.state_dict(),\"fc_model.pth\")"
      ],
      "metadata": {
        "id": "BD2r4RvqSW-e"
      },
      "execution_count": null,
      "outputs": []
    },
    {
      "cell_type": "code",
      "execution_count": null,
      "metadata": {
        "id": "V2zjkybmqMqF"
      },
      "outputs": [],
      "source": [
        "sc = []\n",
        "for lo in losses:\n",
        "  sc.append(lo.item())"
      ]
    },
    {
      "cell_type": "code",
      "execution_count": null,
      "metadata": {
        "colab": {
          "base_uri": "https://localhost:8080/",
          "height": 282
        },
        "id": "iKavWYzeSqTJ",
        "outputId": "c115e2dc-9535-4f01-8847-915c31a97901"
      },
      "outputs": [
        {
          "output_type": "execute_result",
          "data": {
            "text/plain": [
              "[<matplotlib.lines.Line2D at 0x7f2118102950>]"
            ]
          },
          "metadata": {},
          "execution_count": 40
        },
        {
          "output_type": "display_data",
          "data": {
            "image/png": "[encoded data removed]",
            "text/plain": [
              "<Figure size 432x288 with 1 Axes>"
            ]
          },
          "metadata": {
            "needs_background": "light"
          }
        }
      ],
      "source": [
        "plt.plot(sc)"
      ]
    },
    {
      "cell_type": "code",
      "source": [
        "import torch\n",
        "from torch import nn\n",
        "from torch import optim\n",
        "class Conv_Regression(nn.Module):\n",
        "    def __init__(self):\n",
        "        super().__init__()\n",
        "        self.layer1 = torch.nn.Sequential(\n",
        "        nn.Conv2d(3, 32, kernel_size=3, stride=1, padding=1),\n",
        "        nn.ReLU(),\n",
        "        nn.MaxPool2d(kernel_size=2, stride=2))\n",
        "\n",
        "        self.layer2 = torch.nn.Sequential(\n",
        "        nn.Conv2d(32, 64, kernel_size=3, stride=1, padding=1),\n",
        "        nn.ReLU(),\n",
        "        nn.MaxPool2d(kernel_size=2, stride=2))\n",
        "\n",
        "        self.layer3 = torch.nn.Sequential(\n",
        "        nn.Linear(38400, 7200),\n",
        "        nn.Linear(7200, 100),\n",
        "        nn.Linear(100, 1))\n",
        "\n",
        "    def forward(self, x):\n",
        "        out = self.layer1(x)\n",
        "        out = self.layer2(out)\n",
        "        out = out.view(out.size(0), -1)\n",
        "        out = self.layer3(out)\n",
        "        return out"
      ],
      "metadata": {
        "id": "WgaKtR1OevZU"
      },
      "execution_count": 20,
      "outputs": []
    },
    {
      "cell_type": "code",
      "source": [
        "device = 'cuda' if torch.cuda.is_available() else 'cpu'\n",
        "print(f'Using {device} device')\n",
        "def get_cmodel():\n",
        "\n",
        "    model = Conv_Regression().to(device)\n",
        "    return model, optim.Adam(model.parameters(), lr=1e-6)"
      ],
      "metadata": {
        "colab": {
          "base_uri": "https://localhost:8080/"
        },
        "id": "k1dSlDwifBNc",
        "outputId": "23605ea5-1bf9-4f6d-92e6-b48edc234bbc"
      },
      "execution_count": 21,
      "outputs": [
        {
          "output_type": "stream",
          "name": "stdout",
          "text": [
            "Using cuda device\n"
          ]
        }
      ]
    },
    {
      "cell_type": "code",
      "source": [
        "cmodel, opt = get_cmodel()\n",
        "loss_func = nn.MSELoss().to(device)\n",
        "epochs = 100"
      ],
      "metadata": {
        "id": "P8zjd1xNfBjV"
      },
      "execution_count": 22,
      "outputs": []
    },
    {
      "cell_type": "code",
      "source": [
        "losses = []\n",
        "for epoch in range(epochs):\n",
        "  cmodel.train()\n",
        "  for train_x,train_y in train_dl:\n",
        "    pred = cmodel(train_x.to(device))\n",
        "    loss = loss_func(pred, train_y.reshape(len(train_y),1).to(device))\n",
        "\n",
        "    loss.backward()\n",
        "    opt.step()\n",
        "    opt.zero_grad()\n",
        "\n",
        "  cmodel.eval()\n",
        "  with torch.no_grad():\n",
        "    valid_loss = sum(loss_func(cmodel(xb.to(device)), yb.reshape(len(yb),1).to(device)) for xb, yb in valid_dl)\n",
        "\n",
        "  lossed = loss_func(cmodel(train_x.to(device)), train_y.reshape(len(train_y),1).to(device))\n",
        "  losses.append(lossed)\n",
        "  print(epoch, lossed, valid_loss/len(valid_dl))"
      ],
      "metadata": {
        "colab": {
          "base_uri": "https://localhost:8080/"
        },
        "id": "NSiEJMAPfhIe",
        "outputId": "07d312f6-3eac-4afd-fb8f-fc1ef1ebb158"
      },
      "execution_count": 23,
      "outputs": [
        {
          "output_type": "stream",
          "name": "stdout",
          "text": [
            "0 tensor(1590.4934, device='cuda:0', grad_fn=<MseLossBackward0>) tensor(852.5737, device='cuda:0')\n",
            "1 tensor(868.3387, device='cuda:0', grad_fn=<MseLossBackward0>) tensor(842.8268, device='cuda:0')\n",
            "2 tensor(1234.1830, device='cuda:0', grad_fn=<MseLossBackward0>) tensor(798.5914, device='cuda:0')\n",
            "3 tensor(1003.8865, device='cuda:0', grad_fn=<MseLossBackward0>) tensor(678.2126, device='cuda:0')\n",
            "4 tensor(1036.8175, device='cuda:0', grad_fn=<MseLossBackward0>) tensor(776.6501, device='cuda:0')\n",
            "5 tensor(1290.2875, device='cuda:0', grad_fn=<MseLossBackward0>) tensor(589.2900, device='cuda:0')\n",
            "6 tensor(1532.8978, device='cuda:0', grad_fn=<MseLossBackward0>) tensor(620.3739, device='cuda:0')\n",
            "7 tensor(880.1970, device='cuda:0', grad_fn=<MseLossBackward0>) tensor(617.1332, device='cuda:0')\n",
            "8 tensor(1018.9535, device='cuda:0', grad_fn=<MseLossBackward0>) tensor(495.2633, device='cuda:0')\n",
            "9 tensor(845.0836, device='cuda:0', grad_fn=<MseLossBackward0>) tensor(494.1688, device='cuda:0')\n",
            "10 tensor(710.3042, device='cuda:0', grad_fn=<MseLossBackward0>) tensor(403.3680, device='cuda:0')\n",
            "11 tensor(814.3290, device='cuda:0', grad_fn=<MseLossBackward0>) tensor(304.2284, device='cuda:0')\n",
            "12 tensor(523.4205, device='cuda:0', grad_fn=<MseLossBackward0>) tensor(274.2918, device='cuda:0')\n",
            "13 tensor(652.5786, device='cuda:0', grad_fn=<MseLossBackward0>) tensor(309.5468, device='cuda:0')\n",
            "14 tensor(727.3505, device='cuda:0', grad_fn=<MseLossBackward0>) tensor(223.1245, device='cuda:0')\n",
            "15 tensor(472.2965, device='cuda:0', grad_fn=<MseLossBackward0>) tensor(153.0930, device='cuda:0')\n",
            "16 tensor(321.6494, device='cuda:0', grad_fn=<MseLossBackward0>) tensor(122.7181, device='cuda:0')\n",
            "17 tensor(215.9496, device='cuda:0', grad_fn=<MseLossBackward0>) tensor(137.8408, device='cuda:0')\n",
            "18 tensor(618.9155, device='cuda:0', grad_fn=<MseLossBackward0>) tensor(114.5080, device='cuda:0')\n",
            "19 tensor(432.6055, device='cuda:0', grad_fn=<MseLossBackward0>) tensor(66.8243, device='cuda:0')\n",
            "20 tensor(239.7454, device='cuda:0', grad_fn=<MseLossBackward0>) tensor(66.6632, device='cuda:0')\n",
            "21 tensor(226.2835, device='cuda:0', grad_fn=<MseLossBackward0>) tensor(62.4401, device='cuda:0')\n",
            "22 tensor(229.9730, device='cuda:0', grad_fn=<MseLossBackward0>) tensor(44.9044, device='cuda:0')\n",
            "23 tensor(383.4726, device='cuda:0', grad_fn=<MseLossBackward0>) tensor(72.6508, device='cuda:0')\n",
            "24 tensor(196.7304, device='cuda:0', grad_fn=<MseLossBackward0>) tensor(55.9938, device='cuda:0')\n",
            "25 tensor(151.4621, device='cuda:0', grad_fn=<MseLossBackward0>) tensor(92.7952, device='cuda:0')\n",
            "26 tensor(122.1166, device='cuda:0', grad_fn=<MseLossBackward0>) tensor(93.3870, device='cuda:0')\n",
            "27 tensor(139.0474, device='cuda:0', grad_fn=<MseLossBackward0>) tensor(98.4486, device='cuda:0')\n",
            "28 tensor(115.4287, device='cuda:0', grad_fn=<MseLossBackward0>) tensor(94.9151, device='cuda:0')\n",
            "29 tensor(47.9978, device='cuda:0', grad_fn=<MseLossBackward0>) tensor(106.5651, device='cuda:0')\n",
            "30 tensor(39.9711, device='cuda:0', grad_fn=<MseLossBackward0>) tensor(139.1604, device='cuda:0')\n",
            "31 tensor(132.4208, device='cuda:0', grad_fn=<MseLossBackward0>) tensor(104.8275, device='cuda:0')\n",
            "32 tensor(135.0202, device='cuda:0', grad_fn=<MseLossBackward0>) tensor(134.0834, device='cuda:0')\n",
            "33 tensor(92.2278, device='cuda:0', grad_fn=<MseLossBackward0>) tensor(136.6130, device='cuda:0')\n",
            "34 tensor(69.2229, device='cuda:0', grad_fn=<MseLossBackward0>) tensor(186.8706, device='cuda:0')\n",
            "35 tensor(21.3435, device='cuda:0', grad_fn=<MseLossBackward0>) tensor(115.0314, device='cuda:0')\n",
            "36 tensor(16.3793, device='cuda:0', grad_fn=<MseLossBackward0>) tensor(180.8545, device='cuda:0')\n",
            "37 tensor(85.2184, device='cuda:0', grad_fn=<MseLossBackward0>) tensor(124.7433, device='cuda:0')\n",
            "38 tensor(10.5624, device='cuda:0', grad_fn=<MseLossBackward0>) tensor(169.3899, device='cuda:0')\n",
            "39 tensor(210.8645, device='cuda:0', grad_fn=<MseLossBackward0>) tensor(131.3331, device='cuda:0')\n",
            "40 tensor(125.1998, device='cuda:0', grad_fn=<MseLossBackward0>) tensor(137.8474, device='cuda:0')\n",
            "41 tensor(93.8316, device='cuda:0', grad_fn=<MseLossBackward0>) tensor(148.3250, device='cuda:0')\n",
            "42 tensor(35.0965, device='cuda:0', grad_fn=<MseLossBackward0>) tensor(124.7208, device='cuda:0')\n",
            "43 tensor(37.3642, device='cuda:0', grad_fn=<MseLossBackward0>) tensor(117.6214, device='cuda:0')\n",
            "44 tensor(138.8764, device='cuda:0', grad_fn=<MseLossBackward0>) tensor(167.2287, device='cuda:0')\n",
            "45 tensor(97.2168, device='cuda:0', grad_fn=<MseLossBackward0>) tensor(135.9689, device='cuda:0')\n",
            "46 tensor(114.1045, device='cuda:0', grad_fn=<MseLossBackward0>) tensor(153.5105, device='cuda:0')\n",
            "47 tensor(82.8745, device='cuda:0', grad_fn=<MseLossBackward0>) tensor(148.8106, device='cuda:0')\n",
            "48 tensor(88.5514, device='cuda:0', grad_fn=<MseLossBackward0>) tensor(140.0488, device='cuda:0')\n",
            "49 tensor(61.9909, device='cuda:0', grad_fn=<MseLossBackward0>) tensor(138.7665, device='cuda:0')\n",
            "50 tensor(123.6100, device='cuda:0', grad_fn=<MseLossBackward0>) tensor(164.6474, device='cuda:0')\n",
            "51 tensor(143.1832, device='cuda:0', grad_fn=<MseLossBackward0>) tensor(140.7130, device='cuda:0')\n",
            "52 tensor(132.0005, device='cuda:0', grad_fn=<MseLossBackward0>) tensor(157.8775, device='cuda:0')\n",
            "53 tensor(78.4088, device='cuda:0', grad_fn=<MseLossBackward0>) tensor(198.3868, device='cuda:0')\n",
            "54 tensor(76.7033, device='cuda:0', grad_fn=<MseLossBackward0>) tensor(155.6467, device='cuda:0')\n",
            "55 tensor(139.5081, device='cuda:0', grad_fn=<MseLossBackward0>) tensor(138.9098, device='cuda:0')\n",
            "56 tensor(86.6123, device='cuda:0', grad_fn=<MseLossBackward0>) tensor(135.6457, device='cuda:0')\n",
            "57 tensor(75.6105, device='cuda:0', grad_fn=<MseLossBackward0>) tensor(138.8498, device='cuda:0')\n",
            "58 tensor(50.8820, device='cuda:0', grad_fn=<MseLossBackward0>) tensor(137.4373, device='cuda:0')\n",
            "59 tensor(86.2740, device='cuda:0', grad_fn=<MseLossBackward0>) tensor(133.0717, device='cuda:0')\n",
            "60 tensor(43.3210, device='cuda:0', grad_fn=<MseLossBackward0>) tensor(146.7405, device='cuda:0')\n",
            "61 tensor(104.8916, device='cuda:0', grad_fn=<MseLossBackward0>) tensor(114.6336, device='cuda:0')\n",
            "62 tensor(111.7864, device='cuda:0', grad_fn=<MseLossBackward0>) tensor(185.6285, device='cuda:0')\n",
            "63 tensor(138.1277, device='cuda:0', grad_fn=<MseLossBackward0>) tensor(135.8120, device='cuda:0')\n",
            "64 tensor(35.4636, device='cuda:0', grad_fn=<MseLossBackward0>) tensor(142.7571, device='cuda:0')\n",
            "65 tensor(99.3288, device='cuda:0', grad_fn=<MseLossBackward0>) tensor(147.7292, device='cuda:0')\n",
            "66 tensor(53.0364, device='cuda:0', grad_fn=<MseLossBackward0>) tensor(150.9301, device='cuda:0')\n",
            "67 tensor(107.9890, device='cuda:0', grad_fn=<MseLossBackward0>) tensor(150.5115, device='cuda:0')\n",
            "68 tensor(72.2191, device='cuda:0', grad_fn=<MseLossBackward0>) tensor(119.2750, device='cuda:0')\n",
            "69 tensor(145.4001, device='cuda:0', grad_fn=<MseLossBackward0>) tensor(138.3469, device='cuda:0')\n",
            "70 tensor(125.2931, device='cuda:0', grad_fn=<MseLossBackward0>) tensor(139.8466, device='cuda:0')\n",
            "71 tensor(30.4899, device='cuda:0', grad_fn=<MseLossBackward0>) tensor(147.5723, device='cuda:0')\n",
            "72 tensor(182.2365, device='cuda:0', grad_fn=<MseLossBackward0>) tensor(141.5090, device='cuda:0')\n",
            "73 tensor(55.4125, device='cuda:0', grad_fn=<MseLossBackward0>) tensor(143.9565, device='cuda:0')\n",
            "74 tensor(38.9070, device='cuda:0', grad_fn=<MseLossBackward0>) tensor(139.2315, device='cuda:0')\n",
            "75 tensor(37.9520, device='cuda:0', grad_fn=<MseLossBackward0>) tensor(152.9671, device='cuda:0')\n",
            "76 tensor(120.0276, device='cuda:0', grad_fn=<MseLossBackward0>) tensor(133.3005, device='cuda:0')\n",
            "77 tensor(111.4922, device='cuda:0', grad_fn=<MseLossBackward0>) tensor(132.2588, device='cuda:0')\n",
            "78 tensor(38.6429, device='cuda:0', grad_fn=<MseLossBackward0>) tensor(139.2299, device='cuda:0')\n",
            "79 tensor(79.9413, device='cuda:0', grad_fn=<MseLossBackward0>) tensor(118.8410, device='cuda:0')\n",
            "80 tensor(73.2103, device='cuda:0', grad_fn=<MseLossBackward0>) tensor(142.2405, device='cuda:0')\n",
            "81 tensor(39.9084, device='cuda:0', grad_fn=<MseLossBackward0>) tensor(171.1694, device='cuda:0')\n",
            "82 tensor(75.4079, device='cuda:0', grad_fn=<MseLossBackward0>) tensor(125.0858, device='cuda:0')\n",
            "83 tensor(97.5211, device='cuda:0', grad_fn=<MseLossBackward0>) tensor(127.3674, device='cuda:0')\n",
            "84 tensor(61.5843, device='cuda:0', grad_fn=<MseLossBackward0>) tensor(173.3254, device='cuda:0')\n",
            "85 tensor(100.7082, device='cuda:0', grad_fn=<MseLossBackward0>) tensor(161.5281, device='cuda:0')\n",
            "86 tensor(89.2481, device='cuda:0', grad_fn=<MseLossBackward0>) tensor(143.7808, device='cuda:0')\n",
            "87 tensor(93.0405, device='cuda:0', grad_fn=<MseLossBackward0>) tensor(148.8319, device='cuda:0')\n",
            "88 tensor(76.9974, device='cuda:0', grad_fn=<MseLossBackward0>) tensor(137.8907, device='cuda:0')\n",
            "89 tensor(102.6930, device='cuda:0', grad_fn=<MseLossBackward0>) tensor(150.2993, device='cuda:0')\n",
            "90 tensor(47.0867, device='cuda:0', grad_fn=<MseLossBackward0>) tensor(118.8378, device='cuda:0')\n",
            "91 tensor(37.3175, device='cuda:0', grad_fn=<MseLossBackward0>) tensor(138.7222, device='cuda:0')\n",
            "92 tensor(16.3757, device='cuda:0', grad_fn=<MseLossBackward0>) tensor(121.5194, device='cuda:0')\n",
            "93 tensor(31.9668, device='cuda:0', grad_fn=<MseLossBackward0>) tensor(129.7215, device='cuda:0')\n",
            "94 tensor(89.5024, device='cuda:0', grad_fn=<MseLossBackward0>) tensor(146.9482, device='cuda:0')\n",
            "95 tensor(86.6736, device='cuda:0', grad_fn=<MseLossBackward0>) tensor(130.1680, device='cuda:0')\n",
            "96 tensor(32.1869, device='cuda:0', grad_fn=<MseLossBackward0>) tensor(144.7959, device='cuda:0')\n",
            "97 tensor(41.5675, device='cuda:0', grad_fn=<MseLossBackward0>) tensor(143.4031, device='cuda:0')\n",
            "98 tensor(26.9169, device='cuda:0', grad_fn=<MseLossBackward0>) tensor(143.6021, device='cuda:0')\n",
            "99 tensor(87.9220, device='cuda:0', grad_fn=<MseLossBackward0>) tensor(125.0377, device='cuda:0')\n"
          ]
        }
      ]
    },
    {
      "cell_type": "code",
      "source": [
        "sc = []\n",
        "for lo in losses:\n",
        "  sc.append(lo.item())"
      ],
      "metadata": {
        "id": "sJKsTtmZk6HZ"
      },
      "execution_count": 24,
      "outputs": []
    },
    {
      "cell_type": "code",
      "source": [
        "plt.plot(sc)"
      ],
      "metadata": {
        "colab": {
          "base_uri": "https://localhost:8080/",
          "height": 282
        },
        "id": "pfCcMGT9qhjp",
        "outputId": "6773cec1-8d3a-4ac9-cc2d-ce95ae4c03c2"
      },
      "execution_count": 25,
      "outputs": [
        {
          "output_type": "execute_result",
          "data": {
            "text/plain": [
              "[<matplotlib.lines.Line2D at 0x7ff9795aebd0>]"
            ]
          },
          "metadata": {},
          "execution_count": 25
        },
        {
          "output_type": "display_data",
          "data": {
            "image/png": "[encoded data removed]",
            "text/plain": [
              "<Figure size 432x288 with 1 Axes>"
            ]
          },
          "metadata": {
            "needs_background": "light"
          }
        }
      ]
    },
    {
      "cell_type": "code",
      "source": [
        "conv1 = nn.Conv2d(3,32,3, padding=1)\n",
        "conv2 = nn.Conv2d(32,64,3, padding=1)\n",
        "pool = nn.MaxPool2d(2)\n",
        "i=0\n",
        "for x, y in train_dl:\n",
        "  if i==2:\n",
        "    break\n",
        "  # print(x.shape,y.reshape(len(y),1).shape)\n",
        "  # print(torch.flatten(x, start_dim=1).shape, y)\n",
        "  print(conv1(x.float()).shape, y.reshape(len(y),1).shape)\n",
        "  print(pool(conv2(pool(conv1(x.float())))).shape, y.reshape(len(y),1).shape)\n",
        "\n",
        "  i += 1"
      ],
      "metadata": {
        "colab": {
          "base_uri": "https://localhost:8080/"
        },
        "id": "7_gisGUHgEqi",
        "outputId": "b5dcaa15-3676-4a9f-b025-9dbc3d51a330"
      },
      "execution_count": 32,
      "outputs": [
        {
          "output_type": "stream",
          "name": "stdout",
          "text": [
            "torch.Size([8, 32, 96, 100]) torch.Size([8, 1])\n",
            "torch.Size([8, 64, 24, 25]) torch.Size([8, 1])\n",
            "torch.Size([8, 32, 96, 100]) torch.Size([8, 1])\n",
            "torch.Size([8, 64, 24, 25]) torch.Size([8, 1])\n"
          ]
        }
      ]
    },
    {
      "cell_type": "code",
      "source": [
        "print(64*24*25)"
      ],
      "metadata": {
        "colab": {
          "base_uri": "https://localhost:8080/"
        },
        "id": "tBkSn1eJim0Y",
        "outputId": "5082b0a4-fd0d-49ec-b3f5-43270019a58b"
      },
      "execution_count": 33,
      "outputs": [
        {
          "output_type": "stream",
          "name": "stdout",
          "text": [
            "38400\n"
          ]
        }
      ]
    },
    {
      "cell_type": "code",
      "execution_count": null,
      "metadata": {
        "colab": {
          "base_uri": "https://localhost:8080/"
        },
        "id": "1KTM4mFR3sWe",
        "outputId": "fe37786f-0eb5-4771-813c-399bc1f86af7"
      },
      "outputs": [
        {
          "name": "stdout",
          "output_type": "stream",
          "text": [
            "Using cpu device\n"
          ]
        }
      ],
      "source": [
        "device = 'cuda' if torch.cuda.is_available() else 'cpu'\n",
        "print(f'Using {device} device')"
      ]
    },
    {
      "cell_type": "code",
      "execution_count": null,
      "metadata": {
        "colab": {
          "base_uri": "https://localhost:8080/"
        },
        "id": "cROEta3M3tcl",
        "outputId": "13454d54-cea6-4a73-c03e-cb41371101f9"
      },
      "outputs": [
        {
          "name": "stdout",
          "output_type": "stream",
          "text": [
            "NeuralNetwork(\n",
            "  (flatten): Flatten(start_dim=1, end_dim=-1)\n",
            "  (linear_relu_stack): Sequential(\n",
            "    (0): Linear(in_features=9600, out_features=512, bias=True)\n",
            "    (1): ReLU()\n",
            "    (2): Linear(in_features=512, out_features=512, bias=True)\n",
            "    (3): ReLU()\n",
            "    (4): Linear(in_features=512, out_features=1, bias=True)\n",
            "  )\n",
            ")\n"
          ]
        }
      ],
      "source": [
        "model = NeuralNetwork().to(device)\n",
        "print(model)"
      ]
    },
    {
      "cell_type": "code",
      "execution_count": null,
      "metadata": {
        "colab": {
          "base_uri": "https://localhost:8080/"
        },
        "id": "wCnQBl0C3tsQ",
        "outputId": "7248f0b3-7138-400d-aa0f-ee98ee017a4f"
      },
      "outputs": [
        {
          "name": "stdout",
          "output_type": "stream",
          "text": [
            "Predicted class: tensor([[0.0515],\n",
            "        [0.0711],\n",
            "        [0.0528]], grad_fn=<AddmmBackward0>)\n"
          ]
        }
      ],
      "source": [
        "X = torch.rand(3, 96, 100, device=device)\n",
        "logits = model(X)\n",
        "pred_probab = nn.MSELoss()\n",
        "y_pred = logits\n",
        "print(f\"Predicted class: {y_pred}\")"
      ]
    },
    {
      "cell_type": "code",
      "execution_count": null,
      "metadata": {
        "id": "ckkS51lObVxF"
      },
      "outputs": [],
      "source": [
        ""
      ]
    },
    {
      "cell_type": "code",
      "execution_count": null,
      "metadata": {
        "id": "MWdfBz45bV05"
      },
      "outputs": [],
      "source": [
        ""
      ]
    },
    {
      "cell_type": "code",
      "execution_count": null,
      "metadata": {
        "id": "ifGIaH5sbV4c"
      },
      "outputs": [],
      "source": [
        ""
      ]
    },
    {
      "cell_type": "code",
      "execution_count": null,
      "metadata": {
        "id": "suUH-Ci8bV7t"
      },
      "outputs": [],
      "source": [
        ""
      ]
    },
    {
      "cell_type": "code",
      "execution_count": null,
      "metadata": {
        "id": "JfoSLJEibV_f"
      },
      "outputs": [],
      "source": [
        ""
      ]
    }
  ],
  "metadata": {
    "colab": {
      "collapsed_sections": [],
      "name": "custom_age_model.ipynb",
      "provenance": [],
      "authorship_tag": "ABX9TyN24jRsFsvV8V5xGpTC/s3N",
      "include_colab_link": true
    },
    "kernelspec": {
      "display_name": "Python 3",
      "name": "python3"
    },
    "language_info": {
      "name": "python"
    },
    "accelerator": "GPU"
  },
  "nbformat": 4,
  "nbformat_minor": 0
}